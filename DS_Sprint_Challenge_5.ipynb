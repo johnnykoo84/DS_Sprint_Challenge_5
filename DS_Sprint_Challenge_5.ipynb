{
  "nbformat": 4,
  "nbformat_minor": 0,
  "metadata": {
    "colab": {
      "name": "DS_Sprint_Challenge_5.ipynb",
      "provenance": [],
      "collapsed_sections": []
    },
    "kernelspec": {
      "display_name": "Python 3",
      "language": "python",
      "name": "python3"
    },
    "language_info": {
      "codemirror_mode": {
        "name": "ipython",
        "version": 3
      },
      "file_extension": ".py",
      "mimetype": "text/x-python",
      "name": "python",
      "nbconvert_exporter": "python",
      "pygments_lexer": "ipython3",
      "version": "3.7.5-final"
    }
  },
  "cells": [
    {
      "cell_type": "markdown",
      "metadata": {
        "colab_type": "text",
        "id": "VZf2akBaMjq8"
      },
      "source": [
        "_Lambda School Data Science, Unit 2_\n",
        " \n",
        "# Linear Models Sprint Challenge\n",
        "\n",
        "To demonstrate mastery on your Sprint Challenge, do all the required, numbered instructions in this notebook.\n",
        "\n",
        "To earn a score of \"3\", also do all the stretch goals.\n",
        "\n",
        "You are permitted and encouraged to do as much data exploration as you want."
      ]
    },
    {
      "cell_type": "markdown",
      "metadata": {
        "colab_type": "text",
        "id": "20OITf58NLQh"
      },
      "source": [
        "### Part 1, Classification\n",
        "- 1.1. Do train/test split. Arrange data into X features matrix and y target vector\n",
        "- 1.2. Use scikit-learn to fit a logistic regression model\n",
        "- 1.3. Report classification metric: accuracy\n",
        "\n",
        "### Part 2, Regression\n",
        "- 2.1. Begin with baselines for regression\n",
        "- 2.2. Do train/validate/test split\n",
        "- 2.3. Arrange data into X features matrix and y target vector\n",
        "- 2.4. Do one-hot encoding\n",
        "- 2.5. Use scikit-learn to fit a linear regression or ridge regression model\n",
        "- 2.6. Report validation MAE and $R^2$\n",
        "\n",
        "### Stretch Goals, Regression\n",
        "- Make at least 2 visualizations to explore relationships between features and target. You may use any visualization library\n",
        "- Try at least 3 feature combinations. You may select features manually, or automatically\n",
        "- Report validation MAE and $R^2$ for each feature combination you try\n",
        "- Report test MAE and $R^2$ for your final model\n",
        "- Print or plot the coefficients for the features in your model"
      ]
    },
    {
      "cell_type": "code",
      "metadata": {
        "colab_type": "code",
        "id": "BxoFSeX5OX5k",
        "colab": {}
      },
      "source": [
        "# If you're in Colab...\n",
        "import sys\n",
        "if 'google.colab' in sys.modules:\n",
        "    !pip install category_encoders==2.*\n",
        "    !pip install pandas-profiling==2.*\n",
        "    !pip install plotly==4.*"
      ],
      "execution_count": 0,
      "outputs": []
    },
    {
      "cell_type": "markdown",
      "metadata": {
        "colab_type": "text",
        "id": "Q7u1KtsnOi78"
      },
      "source": [
        "# Part 1, Classification: Predict Blood Donations 🚑\n",
        "Our dataset is from a mobile blood donation vehicle in Taiwan. The Blood Transfusion Service Center drives to different universities and collects blood as part of a blood drive.\n",
        "\n",
        "The goal is to predict whether the donor made a donation in March 2007, using information about each donor's history.\n",
        "\n",
        "Good data-driven systems for tracking and predicting donations and supply needs can improve the entire supply chain, making sure that more patients get the blood transfusions they need."
      ]
    },
    {
      "cell_type": "code",
      "metadata": {
        "colab_type": "code",
        "id": "gJzpgv-fO4rh",
        "colab": {}
      },
      "source": [
        "import pandas as pd\n",
        "\n",
        "donors = pd.read_csv('https://archive.ics.uci.edu/ml/machine-learning-databases/blood-transfusion/transfusion.data')\n",
        "assert donors.shape == (748,5)\n",
        "\n",
        "donors = donors.rename(columns={\n",
        "    'Recency (months)': 'months_since_last_donation', \n",
        "    'Frequency (times)': 'number_of_donations', \n",
        "    'Monetary (c.c. blood)': 'total_volume_donated', \n",
        "    'Time (months)': 'months_since_first_donation', \n",
        "    'whether he/she donated blood in March 2007': 'made_donation_in_march_2007'\n",
        "})"
      ],
      "execution_count": 1,
      "outputs": []
    },
    {
      "cell_type": "markdown",
      "metadata": {
        "colab_type": "text",
        "id": "oU4oE0LJMG7X"
      },
      "source": [
        "Notice that the majority class (did not donate blood in March 2007) occurs about 3/4 of the time. \n",
        "\n",
        "This is the accuracy score for the \"majority class baseline\" (the accuracy score we'd get by just guessing the majority class every time)."
      ]
    },
    {
      "cell_type": "code",
      "metadata": {
        "colab_type": "code",
        "id": "TgRp5slvLzJs",
        "colab": {}
      },
      "source": [
        "donors['made_donation_in_march_2007'].value_counts(normalize=True)"
      ],
      "execution_count": 2,
      "outputs": [
        {
          "output_type": "execute_result",
          "data": {
            "text/plain": "0    0.762032\n1    0.237968\nName: made_donation_in_march_2007, dtype: float64"
          },
          "metadata": {},
          "execution_count": 2
        }
      ]
    },
    {
      "cell_type": "code",
      "execution_count": 3,
      "metadata": {},
      "outputs": [
        {
          "output_type": "execute_result",
          "data": {
            "text/plain": "   months_since_last_donation  number_of_donations  total_volume_donated  \\\n0                           2                   50                 12500   \n1                           0                   13                  3250   \n2                           1                   16                  4000   \n3                           2                   20                  5000   \n4                           1                   24                  6000   \n\n   months_since_first_donation  made_donation_in_march_2007  \n0                           98                            1  \n1                           28                            1  \n2                           35                            1  \n3                           45                            1  \n4                           77                            0  ",
            "text/html": "<div>\n<style scoped>\n    .dataframe tbody tr th:only-of-type {\n        vertical-align: middle;\n    }\n\n    .dataframe tbody tr th {\n        vertical-align: top;\n    }\n\n    .dataframe thead th {\n        text-align: right;\n    }\n</style>\n<table border=\"1\" class=\"dataframe\">\n  <thead>\n    <tr style=\"text-align: right;\">\n      <th></th>\n      <th>months_since_last_donation</th>\n      <th>number_of_donations</th>\n      <th>total_volume_donated</th>\n      <th>months_since_first_donation</th>\n      <th>made_donation_in_march_2007</th>\n    </tr>\n  </thead>\n  <tbody>\n    <tr>\n      <th>0</th>\n      <td>2</td>\n      <td>50</td>\n      <td>12500</td>\n      <td>98</td>\n      <td>1</td>\n    </tr>\n    <tr>\n      <th>1</th>\n      <td>0</td>\n      <td>13</td>\n      <td>3250</td>\n      <td>28</td>\n      <td>1</td>\n    </tr>\n    <tr>\n      <th>2</th>\n      <td>1</td>\n      <td>16</td>\n      <td>4000</td>\n      <td>35</td>\n      <td>1</td>\n    </tr>\n    <tr>\n      <th>3</th>\n      <td>2</td>\n      <td>20</td>\n      <td>5000</td>\n      <td>45</td>\n      <td>1</td>\n    </tr>\n    <tr>\n      <th>4</th>\n      <td>1</td>\n      <td>24</td>\n      <td>6000</td>\n      <td>77</td>\n      <td>0</td>\n    </tr>\n  </tbody>\n</table>\n</div>"
          },
          "metadata": {},
          "execution_count": 3
        }
      ],
      "source": [
        "donors.head()"
      ]
    },
    {
      "cell_type": "code",
      "execution_count": 4,
      "metadata": {},
      "outputs": [
        {
          "output_type": "execute_result",
          "data": {
            "text/plain": "months_since_last_donation     int64\nnumber_of_donations            int64\ntotal_volume_donated           int64\nmonths_since_first_donation    int64\nmade_donation_in_march_2007    int64\ndtype: object"
          },
          "metadata": {},
          "execution_count": 4
        }
      ],
      "source": [
        "donors.dtypes"
      ]
    },
    {
      "cell_type": "markdown",
      "metadata": {
        "colab_type": "text",
        "id": "P66Fpcq1PYZl"
      },
      "source": [
        "## 1.1. Do train/test split. Arrange data into X features matrix and y target vector\n",
        "\n",
        "Do these steps in either order.\n",
        "\n",
        "Use scikit-learn's train/test split function to split randomly. (You can include 75% of the data in the train set, and hold out 25% for the test set, which is the default.)"
      ]
    },
    {
      "cell_type": "code",
      "metadata": {
        "colab_type": "code",
        "id": "InhicZeZPX8L",
        "colab": {}
      },
      "source": [
        "import numpy as np\n",
        "from sklearn.model_selection import train_test_split\n",
        "\n",
        "train, test = train_test_split(donors)"
      ],
      "execution_count": 7,
      "outputs": []
    },
    {
      "cell_type": "code",
      "execution_count": 10,
      "metadata": {},
      "outputs": [
        {
          "output_type": "execute_result",
          "data": {
            "text/plain": "((561, 5), (187, 5))"
          },
          "metadata": {},
          "execution_count": 10
        }
      ],
      "source": [
        "train.shape, test.shape"
      ]
    },
    {
      "cell_type": "code",
      "execution_count": 13,
      "metadata": {},
      "outputs": [
        {
          "output_type": "execute_result",
          "data": {
            "text/plain": "75.0"
          },
          "metadata": {},
          "execution_count": 13
        }
      ],
      "source": [
        "# prove that the train to test ratio is 75% by default\n",
        "train.shape[0]/(train.shape[0] + test.shape[0]) * 100"
      ]
    },
    {
      "cell_type": "code",
      "metadata": {
        "colab_type": "code",
        "id": "a2jf_deRRl64",
        "colab": {}
      },
      "source": [
        "target = 'made_donation_in_march_2007'\n",
        "y_train = train[target]\n",
        "y_train.value_counts(normalize=True)"
      ],
      "execution_count": 14,
      "outputs": [
        {
          "output_type": "execute_result",
          "data": {
            "text/plain": "0    0.755793\n1    0.244207\nName: made_donation_in_march_2007, dtype: float64"
          },
          "metadata": {},
          "execution_count": 14
        }
      ]
    },
    {
      "cell_type": "code",
      "execution_count": 19,
      "metadata": {},
      "outputs": [],
      "source": [
        "majority = y_train.mode()[0]\n",
        "y_pred_train = [majority]*len(y_train)"
      ]
    },
    {
      "cell_type": "code",
      "execution_count": 20,
      "metadata": {},
      "outputs": [
        {
          "output_type": "execute_result",
          "data": {
            "text/plain": "0.7557932263814616"
          },
          "metadata": {},
          "execution_count": 20
        }
      ],
      "source": [
        "# accuracy score with baseline guess\n",
        "from sklearn.metrics import accuracy_score\n",
        "accuracy_score(y_train, y_pred_train)"
      ]
    },
    {
      "cell_type": "code",
      "execution_count": 26,
      "metadata": {},
      "outputs": [
        {
          "output_type": "execute_result",
          "data": {
            "text/plain": "months_since_last_donation     0\nnumber_of_donations            0\ntotal_volume_donated           0\nmonths_since_first_donation    0\nmade_donation_in_march_2007    0\ndtype: int64"
          },
          "metadata": {},
          "execution_count": 26
        }
      ],
      "source": [
        "# there are no missing values so we don't need imputation\n",
        "train.isnull().sum()"
      ]
    },
    {
      "cell_type": "code",
      "execution_count": 28,
      "metadata": {},
      "outputs": [],
      "source": [
        "# 1. Import estimator class\n",
        "from sklearn.linear_model import LinearRegression\n",
        "\n",
        "# 2. Instantiate this class\n",
        "linear_reg = LinearRegression()\n",
        "\n",
        "# 3. Arrange X feature matrices\n",
        "features = ['months_since_last_donation', 'number_of_donations', 'total_volume_donated', 'months_since_first_donation']\n",
        "X_train = train[features]\n",
        "X_test = test[features]"
      ]
    },
    {
      "cell_type": "markdown",
      "metadata": {
        "colab_type": "text",
        "id": "ln9fqAghRmQT"
      },
      "source": [
        "## 1.2. Use scikit-learn to fit a logistic regression model\n",
        "\n",
        "You may use any number of features"
      ]
    },
    {
      "cell_type": "code",
      "execution_count": 34,
      "metadata": {},
      "outputs": [
        {
          "output_type": "execute_result",
          "data": {
            "text/plain": "     months_since_last_donation  number_of_donations  total_volume_donated  \\\n235                           8                   10                  2500   \n61                            2                    8                  2000   \n173                           2                    1                   250   \n300                          14                    2                   500   \n368                          11                    2                   500   \n..                          ...                  ...                   ...   \n280                          14                   16                  4000   \n202                           6                    2                   500   \n91                            4                    2                   500   \n250                          11                    2                   500   \n111                           4                    9                  2250   \n\n     months_since_first_donation  \n235                           63  \n61                            35  \n173                            2  \n300                           14  \n368                           26  \n..                           ...  \n280                           70  \n202                           11  \n91                             4  \n250                           11  \n111                           46  \n\n[187 rows x 4 columns]",
            "text/html": "<div>\n<style scoped>\n    .dataframe tbody tr th:only-of-type {\n        vertical-align: middle;\n    }\n\n    .dataframe tbody tr th {\n        vertical-align: top;\n    }\n\n    .dataframe thead th {\n        text-align: right;\n    }\n</style>\n<table border=\"1\" class=\"dataframe\">\n  <thead>\n    <tr style=\"text-align: right;\">\n      <th></th>\n      <th>months_since_last_donation</th>\n      <th>number_of_donations</th>\n      <th>total_volume_donated</th>\n      <th>months_since_first_donation</th>\n    </tr>\n  </thead>\n  <tbody>\n    <tr>\n      <th>235</th>\n      <td>8</td>\n      <td>10</td>\n      <td>2500</td>\n      <td>63</td>\n    </tr>\n    <tr>\n      <th>61</th>\n      <td>2</td>\n      <td>8</td>\n      <td>2000</td>\n      <td>35</td>\n    </tr>\n    <tr>\n      <th>173</th>\n      <td>2</td>\n      <td>1</td>\n      <td>250</td>\n      <td>2</td>\n    </tr>\n    <tr>\n      <th>300</th>\n      <td>14</td>\n      <td>2</td>\n      <td>500</td>\n      <td>14</td>\n    </tr>\n    <tr>\n      <th>368</th>\n      <td>11</td>\n      <td>2</td>\n      <td>500</td>\n      <td>26</td>\n    </tr>\n    <tr>\n      <th>...</th>\n      <td>...</td>\n      <td>...</td>\n      <td>...</td>\n      <td>...</td>\n    </tr>\n    <tr>\n      <th>280</th>\n      <td>14</td>\n      <td>16</td>\n      <td>4000</td>\n      <td>70</td>\n    </tr>\n    <tr>\n      <th>202</th>\n      <td>6</td>\n      <td>2</td>\n      <td>500</td>\n      <td>11</td>\n    </tr>\n    <tr>\n      <th>91</th>\n      <td>4</td>\n      <td>2</td>\n      <td>500</td>\n      <td>4</td>\n    </tr>\n    <tr>\n      <th>250</th>\n      <td>11</td>\n      <td>2</td>\n      <td>500</td>\n      <td>11</td>\n    </tr>\n    <tr>\n      <th>111</th>\n      <td>4</td>\n      <td>9</td>\n      <td>2250</td>\n      <td>46</td>\n    </tr>\n  </tbody>\n</table>\n<p>187 rows × 4 columns</p>\n</div>"
          },
          "metadata": {},
          "execution_count": 34
        }
      ],
      "source": [
        "X_test"
      ]
    },
    {
      "cell_type": "code",
      "execution_count": 49,
      "metadata": {},
      "outputs": [
        {
          "output_type": "execute_result",
          "data": {
            "text/plain": "0.7967914438502673"
          },
          "metadata": {},
          "execution_count": 49
        }
      ],
      "source": [
        "# 4. Fit the model\n",
        "linear_reg.fit(X_train, y_train)\n",
        "y_pred_test = linear_reg.predict(X_test)\n",
        "y_test = test[target]\n",
        "\n",
        "# see accuracy for linear regression\n",
        "accuracy_score(y_test, y_pred_test.round())"
      ]
    },
    {
      "cell_type": "code",
      "execution_count": 52,
      "metadata": {},
      "outputs": [
        {
          "output_type": "execute_result",
          "data": {
            "text/plain": "LogisticRegression(C=1.0, class_weight=None, dual=False, fit_intercept=True,\n                   intercept_scaling=1, l1_ratio=None, max_iter=100,\n                   multi_class='warn', n_jobs=None, penalty='l2',\n                   random_state=None, solver='warn', tol=0.0001, verbose=0,\n                   warm_start=False)"
          },
          "metadata": {},
          "execution_count": 52
        }
      ],
      "source": [
        "# let's do Logistic Regression\n",
        "from sklearn.linear_model import LogisticRegression\n",
        "\n",
        "log_reg = LogisticRegression()\n",
        "log_reg.fit(X_train, y_train)\n",
        ""
      ]
    },
    {
      "cell_type": "markdown",
      "metadata": {
        "colab_type": "text",
        "id": "Ah6EhiRVSusy"
      },
      "source": [
        "## 1.3. Report classification metric: accuracy\n",
        "\n",
        "What is your model's accuracy on the test set?\n",
        "\n",
        "Don't worry if your model doesn't beat the majority class baseline. That's okay!\n",
        "\n",
        "_\"The combination of some data and an aching desire for an answer does not ensure that a reasonable answer can be extracted from a given body of data.\"_ —[John Tukey](https://en.wikiquote.org/wiki/John_Tukey)\n",
        "\n",
        "(Also, if we used recall score instead of accuracy score, then your model would almost certainly beat the baseline. We'll discuss how to choose and interpret evaluation metrics throughout this unit.)\n"
      ]
    },
    {
      "cell_type": "code",
      "metadata": {
        "colab_type": "code",
        "id": "ZfJ2NFsASt9_",
        "colab": {}
      },
      "source": [
        "print('Test Accuracy', log_reg.score(X_test, y_test))\n",
        "\n",
        "# same thing\n",
        "# y_pred = log_reg.predict(X_test)\n",
        "# print('Test Accuracy', accuracy_score(y_pred, y_test))\n",
        "# wait.. this accuracy is lower than the linear regression?"
      ],
      "execution_count": 53,
      "outputs": [
        {
          "output_type": "stream",
          "name": "stdout",
          "text": "Test Accuracy 0.786096256684492\n"
        }
      ]
    },
    {
      "cell_type": "markdown",
      "metadata": {
        "colab_type": "text",
        "id": "xDmZn3ApOM7t"
      },
      "source": [
        "# Part 2, Regression: Predict home prices in Ames, Iowa 🏠\n",
        "\n",
        "You'll use historical housing data. ***There's a data dictionary at the bottom of the notebook.*** \n",
        "\n",
        "Run this code cell to load the dataset:\n",
        "\n",
        "\n",
        "\n"
      ]
    },
    {
      "cell_type": "code",
      "metadata": {
        "colab_type": "code",
        "id": "7ptoRG1lu7H4",
        "colab": {}
      },
      "source": [
        "import pandas as pd\n",
        "URL = 'https://drive.google.com/uc?export=download&id=1522WlEW6HFss36roD_Cd9nybqSuiVcCK'\n",
        "homes = pd.read_csv(URL)\n",
        "assert homes.shape == (2904, 47)"
      ],
      "execution_count": 54,
      "outputs": []
    },
    {
      "cell_type": "code",
      "execution_count": 56,
      "metadata": {},
      "outputs": [
        {
          "output_type": "execute_result",
          "data": {
            "text/plain": "   1st_Flr_SF  Bedroom_AbvGr Bldg_Type  Bsmt_Full_Bath  Bsmt_Half_Bath  \\\n0        1656              3      1Fam             1.0             0.0   \n1         896              2      1Fam             0.0             0.0   \n2        1329              3      1Fam             0.0             0.0   \n3        2110              3      1Fam             1.0             0.0   \n4         928              3      1Fam             0.0             0.0   \n\n  Central_Air Condition_1 Condition_2 Electrical Exter_Cond  ... Roof_Style  \\\n0           Y        Norm        Norm      SBrkr         TA  ...        Hip   \n1           Y       Feedr        Norm      SBrkr         TA  ...      Gable   \n2           Y        Norm        Norm      SBrkr         TA  ...        Hip   \n3           Y        Norm        Norm      SBrkr         TA  ...        Hip   \n4           Y        Norm        Norm      SBrkr         TA  ...      Gable   \n\n  SalePrice Sale_Condition Sale_Type  Street TotRms_AbvGrd  Utilities  \\\n0    215000         Normal       WD     Pave             7     AllPub   \n1    105000         Normal       WD     Pave             5     AllPub   \n2    172000         Normal       WD     Pave             6     AllPub   \n3    244000         Normal       WD     Pave             8     AllPub   \n4    189900         Normal       WD     Pave             6     AllPub   \n\n   Year_Built Year_Remod/Add Yr_Sold  \n0        1960           1960    2010  \n1        1961           1961    2010  \n2        1958           1958    2010  \n3        1968           1968    2010  \n4        1997           1998    2010  \n\n[5 rows x 47 columns]",
            "text/html": "<div>\n<style scoped>\n    .dataframe tbody tr th:only-of-type {\n        vertical-align: middle;\n    }\n\n    .dataframe tbody tr th {\n        vertical-align: top;\n    }\n\n    .dataframe thead th {\n        text-align: right;\n    }\n</style>\n<table border=\"1\" class=\"dataframe\">\n  <thead>\n    <tr style=\"text-align: right;\">\n      <th></th>\n      <th>1st_Flr_SF</th>\n      <th>Bedroom_AbvGr</th>\n      <th>Bldg_Type</th>\n      <th>Bsmt_Full_Bath</th>\n      <th>Bsmt_Half_Bath</th>\n      <th>Central_Air</th>\n      <th>Condition_1</th>\n      <th>Condition_2</th>\n      <th>Electrical</th>\n      <th>Exter_Cond</th>\n      <th>...</th>\n      <th>Roof_Style</th>\n      <th>SalePrice</th>\n      <th>Sale_Condition</th>\n      <th>Sale_Type</th>\n      <th>Street</th>\n      <th>TotRms_AbvGrd</th>\n      <th>Utilities</th>\n      <th>Year_Built</th>\n      <th>Year_Remod/Add</th>\n      <th>Yr_Sold</th>\n    </tr>\n  </thead>\n  <tbody>\n    <tr>\n      <th>0</th>\n      <td>1656</td>\n      <td>3</td>\n      <td>1Fam</td>\n      <td>1.0</td>\n      <td>0.0</td>\n      <td>Y</td>\n      <td>Norm</td>\n      <td>Norm</td>\n      <td>SBrkr</td>\n      <td>TA</td>\n      <td>...</td>\n      <td>Hip</td>\n      <td>215000</td>\n      <td>Normal</td>\n      <td>WD</td>\n      <td>Pave</td>\n      <td>7</td>\n      <td>AllPub</td>\n      <td>1960</td>\n      <td>1960</td>\n      <td>2010</td>\n    </tr>\n    <tr>\n      <th>1</th>\n      <td>896</td>\n      <td>2</td>\n      <td>1Fam</td>\n      <td>0.0</td>\n      <td>0.0</td>\n      <td>Y</td>\n      <td>Feedr</td>\n      <td>Norm</td>\n      <td>SBrkr</td>\n      <td>TA</td>\n      <td>...</td>\n      <td>Gable</td>\n      <td>105000</td>\n      <td>Normal</td>\n      <td>WD</td>\n      <td>Pave</td>\n      <td>5</td>\n      <td>AllPub</td>\n      <td>1961</td>\n      <td>1961</td>\n      <td>2010</td>\n    </tr>\n    <tr>\n      <th>2</th>\n      <td>1329</td>\n      <td>3</td>\n      <td>1Fam</td>\n      <td>0.0</td>\n      <td>0.0</td>\n      <td>Y</td>\n      <td>Norm</td>\n      <td>Norm</td>\n      <td>SBrkr</td>\n      <td>TA</td>\n      <td>...</td>\n      <td>Hip</td>\n      <td>172000</td>\n      <td>Normal</td>\n      <td>WD</td>\n      <td>Pave</td>\n      <td>6</td>\n      <td>AllPub</td>\n      <td>1958</td>\n      <td>1958</td>\n      <td>2010</td>\n    </tr>\n    <tr>\n      <th>3</th>\n      <td>2110</td>\n      <td>3</td>\n      <td>1Fam</td>\n      <td>1.0</td>\n      <td>0.0</td>\n      <td>Y</td>\n      <td>Norm</td>\n      <td>Norm</td>\n      <td>SBrkr</td>\n      <td>TA</td>\n      <td>...</td>\n      <td>Hip</td>\n      <td>244000</td>\n      <td>Normal</td>\n      <td>WD</td>\n      <td>Pave</td>\n      <td>8</td>\n      <td>AllPub</td>\n      <td>1968</td>\n      <td>1968</td>\n      <td>2010</td>\n    </tr>\n    <tr>\n      <th>4</th>\n      <td>928</td>\n      <td>3</td>\n      <td>1Fam</td>\n      <td>0.0</td>\n      <td>0.0</td>\n      <td>Y</td>\n      <td>Norm</td>\n      <td>Norm</td>\n      <td>SBrkr</td>\n      <td>TA</td>\n      <td>...</td>\n      <td>Gable</td>\n      <td>189900</td>\n      <td>Normal</td>\n      <td>WD</td>\n      <td>Pave</td>\n      <td>6</td>\n      <td>AllPub</td>\n      <td>1997</td>\n      <td>1998</td>\n      <td>2010</td>\n    </tr>\n  </tbody>\n</table>\n<p>5 rows × 47 columns</p>\n</div>"
          },
          "metadata": {},
          "execution_count": 56
        }
      ],
      "source": [
        "homes.head()"
      ]
    },
    {
      "cell_type": "code",
      "execution_count": 57,
      "metadata": {},
      "outputs": [
        {
          "output_type": "execute_result",
          "data": {
            "text/plain": "1st_Flr_SF          int64\nBedroom_AbvGr       int64\nBldg_Type          object\nBsmt_Full_Bath    float64\nBsmt_Half_Bath    float64\nCentral_Air        object\nCondition_1        object\nCondition_2        object\nElectrical         object\nExter_Cond         object\nExter_Qual         object\nExterior_1st       object\nExterior_2nd       object\nFoundation         object\nFull_Bath           int64\nFunctional         object\nGr_Liv_Area         int64\nHalf_Bath           int64\nHeating            object\nHeating_QC         object\nHouse_Style        object\nKitchen_AbvGr       int64\nKitchen_Qual       object\nLand_Contour       object\nLand_Slope         object\nLot_Area            int64\nLot_Config         object\nLot_Shape          object\nMS_SubClass         int64\nMS_Zoning          object\nMas_Vnr_Type       object\nMo_Sold             int64\nNeighborhood       object\nOverall_Cond        int64\nOverall_Qual        int64\nPaved_Drive        object\nRoof_Matl          object\nRoof_Style         object\nSalePrice           int64\nSale_Condition     object\nSale_Type          object\nStreet             object\nTotRms_AbvGrd       int64\nUtilities          object\nYear_Built          int64\nYear_Remod/Add      int64\nYr_Sold             int64\ndtype: object"
          },
          "metadata": {},
          "execution_count": 57
        }
      ],
      "source": [
        "homes.dtypes"
      ]
    },
    {
      "cell_type": "markdown",
      "metadata": {
        "colab_type": "text",
        "id": "CowG-cgZ5ZrB"
      },
      "source": [
        "## 2.1. Begin with baselines\n",
        "\n",
        "What is the Mean Absolute Error and R^2 score for a mean baseline? (You can get these estimated scores using all your data, before splitting it.)"
      ]
    },
    {
      "cell_type": "code",
      "metadata": {
        "colab_type": "code",
        "id": "TbahVr-j5ZLs",
        "colab": {}
      },
      "source": [
        "# ???"
      ],
      "execution_count": 58,
      "outputs": []
    },
    {
      "cell_type": "markdown",
      "metadata": {
        "colab_type": "text",
        "id": "yqeiq1wvyrTq"
      },
      "source": [
        "## 2.2. Do train/validate/test split\n",
        "\n",
        "Train on houses sold in the years 2006 - 2008. (1,920 rows)\n",
        "\n",
        "Validate on house sold in 2009. (644 rows)\n",
        "\n",
        "Test on houses sold in 2010. (340 rows)"
      ]
    },
    {
      "cell_type": "code",
      "metadata": {
        "colab_type": "code",
        "id": "WKFjWLI3w0P_",
        "colab": {}
      },
      "source": [
        "cond_train = (homes['Yr_Sold'] >= 2006) & (homes['Yr_Sold'] <= 2008)\n",
        "cond_val = homes['Yr_Sold'] == 2009\n",
        "cond_test = homes['Yr_Sold'] == 2010\n",
        "\n",
        "train = homes[cond_train]\n",
        "val = homes[cond_val]\n",
        "test = homes[cond_test]\n",
        "train.shape, val.shape, test.shape"
      ],
      "execution_count": 61,
      "outputs": [
        {
          "output_type": "execute_result",
          "data": {
            "text/plain": "((1920, 47), (644, 47), (340, 47))"
          },
          "metadata": {},
          "execution_count": 61
        }
      ]
    },
    {
      "cell_type": "markdown",
      "metadata": {
        "colab_type": "text",
        "id": "hk1bYDJy6txq"
      },
      "source": [
        "## 2.3. Arrange data into X features matrix and y target vector\n",
        "\n",
        "Select at least one numeric feature and at least one categorical feature.\n",
        "\n",
        "Otherwise, you may choose whichever features and however many you want."
      ]
    },
    {
      "cell_type": "code",
      "metadata": {
        "colab_type": "code",
        "id": "JQf9iwzf_uWh",
        "colab": {}
      },
      "source": [
        "target = 'SalePrice'\n",
        "numerics = train.select_dtypes(include='number').columns.drop(target).tolist()\n",
        "categoricals = train.select_dtypes(exclude='number').columns.tolist()\n",
        "low_cardinality_categories = [col for col in categoricals if train[col].nunique() <= 10]\n",
        "\n",
        "features = numerics + low_cardinality_categories\n",
        "\n",
        "X_train = train[features]\n",
        "y_train = train[target]\n",
        "\n",
        "X_val = val[features]\n",
        "y_val = val[target]"
      ],
      "execution_count": 65,
      "outputs": []
    },
    {
      "cell_type": "markdown",
      "metadata": {
        "colab_type": "text",
        "id": "zDT-gSl_-Gwh"
      },
      "source": [
        "## 2.4. Do one-hot encoding\n",
        "\n",
        "Encode your categorical feature(s)."
      ]
    },
    {
      "cell_type": "code",
      "metadata": {
        "colab_type": "code",
        "id": "iqRywy6M7Jcr",
        "colab": {}
      },
      "source": [
        "import category_encoders as ce\n",
        "\n",
        "encoder = ce.OneHotEncoder(use_cat_names=True)\n",
        "X_train_enc = encoder.fit_transform(X_train)\n",
        "X_val_enc = encoder.transform(X_val)\n",
        "\n",
        "X_train_enc.head()"
      ],
      "execution_count": 68,
      "outputs": [
        {
          "output_type": "execute_result",
          "data": {
            "text/plain": "     1st_Flr_SF  Bedroom_AbvGr  Bsmt_Full_Bath  Bsmt_Half_Bath  Full_Bath  \\\n984        1414              3             1.0             0.0          1   \n985        2117              4             0.0             0.0          2   \n986        1092              4             0.0             0.0          2   \n987         926              3             0.0             0.0          2   \n988         680              3             0.0             0.0          2   \n\n     Gr_Liv_Area  Half_Bath  Kitchen_AbvGr  Lot_Area  MS_SubClass  ...  \\\n984         1414          0              1     11029           20  ...   \n985         2117          1              1     12925           20  ...   \n986         2112          1              1     11075           60  ...   \n987         1604          1              1      8702           60  ...   \n988         1470          1              1      8139           60  ...   \n\n     Sale_Type_CWD  Sale_Type_Con  Sale_Type_ConLw  Sale_Type_VWD  \\\n984              0              0                0              0   \n985              0              0                0              0   \n986              0              0                0              0   \n987              0              0                0              0   \n988              0              0                0              0   \n\n     Sale_Type_Oth  Sale_Type_ConLI  Street_Pave  Street_Grvl  \\\n984              0                0            1            0   \n985              0                0            1            0   \n986              0                0            1            0   \n987              0                0            1            0   \n988              0                0            1            0   \n\n     Utilities_AllPub  Utilities_NoSewr  \n984                 1                 0  \n985                 1                 0  \n986                 1                 0  \n987                 1                 0  \n988                 1                 0  \n\n[5 rows x 157 columns]",
            "text/html": "<div>\n<style scoped>\n    .dataframe tbody tr th:only-of-type {\n        vertical-align: middle;\n    }\n\n    .dataframe tbody tr th {\n        vertical-align: top;\n    }\n\n    .dataframe thead th {\n        text-align: right;\n    }\n</style>\n<table border=\"1\" class=\"dataframe\">\n  <thead>\n    <tr style=\"text-align: right;\">\n      <th></th>\n      <th>1st_Flr_SF</th>\n      <th>Bedroom_AbvGr</th>\n      <th>Bsmt_Full_Bath</th>\n      <th>Bsmt_Half_Bath</th>\n      <th>Full_Bath</th>\n      <th>Gr_Liv_Area</th>\n      <th>Half_Bath</th>\n      <th>Kitchen_AbvGr</th>\n      <th>Lot_Area</th>\n      <th>MS_SubClass</th>\n      <th>...</th>\n      <th>Sale_Type_CWD</th>\n      <th>Sale_Type_Con</th>\n      <th>Sale_Type_ConLw</th>\n      <th>Sale_Type_VWD</th>\n      <th>Sale_Type_Oth</th>\n      <th>Sale_Type_ConLI</th>\n      <th>Street_Pave</th>\n      <th>Street_Grvl</th>\n      <th>Utilities_AllPub</th>\n      <th>Utilities_NoSewr</th>\n    </tr>\n  </thead>\n  <tbody>\n    <tr>\n      <th>984</th>\n      <td>1414</td>\n      <td>3</td>\n      <td>1.0</td>\n      <td>0.0</td>\n      <td>1</td>\n      <td>1414</td>\n      <td>0</td>\n      <td>1</td>\n      <td>11029</td>\n      <td>20</td>\n      <td>...</td>\n      <td>0</td>\n      <td>0</td>\n      <td>0</td>\n      <td>0</td>\n      <td>0</td>\n      <td>0</td>\n      <td>1</td>\n      <td>0</td>\n      <td>1</td>\n      <td>0</td>\n    </tr>\n    <tr>\n      <th>985</th>\n      <td>2117</td>\n      <td>4</td>\n      <td>0.0</td>\n      <td>0.0</td>\n      <td>2</td>\n      <td>2117</td>\n      <td>1</td>\n      <td>1</td>\n      <td>12925</td>\n      <td>20</td>\n      <td>...</td>\n      <td>0</td>\n      <td>0</td>\n      <td>0</td>\n      <td>0</td>\n      <td>0</td>\n      <td>0</td>\n      <td>1</td>\n      <td>0</td>\n      <td>1</td>\n      <td>0</td>\n    </tr>\n    <tr>\n      <th>986</th>\n      <td>1092</td>\n      <td>4</td>\n      <td>0.0</td>\n      <td>0.0</td>\n      <td>2</td>\n      <td>2112</td>\n      <td>1</td>\n      <td>1</td>\n      <td>11075</td>\n      <td>60</td>\n      <td>...</td>\n      <td>0</td>\n      <td>0</td>\n      <td>0</td>\n      <td>0</td>\n      <td>0</td>\n      <td>0</td>\n      <td>1</td>\n      <td>0</td>\n      <td>1</td>\n      <td>0</td>\n    </tr>\n    <tr>\n      <th>987</th>\n      <td>926</td>\n      <td>3</td>\n      <td>0.0</td>\n      <td>0.0</td>\n      <td>2</td>\n      <td>1604</td>\n      <td>1</td>\n      <td>1</td>\n      <td>8702</td>\n      <td>60</td>\n      <td>...</td>\n      <td>0</td>\n      <td>0</td>\n      <td>0</td>\n      <td>0</td>\n      <td>0</td>\n      <td>0</td>\n      <td>1</td>\n      <td>0</td>\n      <td>1</td>\n      <td>0</td>\n    </tr>\n    <tr>\n      <th>988</th>\n      <td>680</td>\n      <td>3</td>\n      <td>0.0</td>\n      <td>0.0</td>\n      <td>2</td>\n      <td>1470</td>\n      <td>1</td>\n      <td>1</td>\n      <td>8139</td>\n      <td>60</td>\n      <td>...</td>\n      <td>0</td>\n      <td>0</td>\n      <td>0</td>\n      <td>0</td>\n      <td>0</td>\n      <td>0</td>\n      <td>1</td>\n      <td>0</td>\n      <td>1</td>\n      <td>0</td>\n    </tr>\n  </tbody>\n</table>\n<p>5 rows × 157 columns</p>\n</div>"
          },
          "metadata": {},
          "execution_count": 68
        }
      ]
    },
    {
      "cell_type": "markdown",
      "metadata": {
        "colab_type": "text",
        "id": "2ZceruUx-Vs-"
      },
      "source": [
        "## 2.5. Use scikit-learn to fit a linear regression or ridge regression model\n",
        "Fit your model."
      ]
    },
    {
      "cell_type": "code",
      "metadata": {
        "colab_type": "code",
        "id": "Kvy4Z0xv7eJF",
        "colab": {}
      },
      "source": [
        "from sklearn.feature_selection import f_regression, SelectKBest\n",
        "from sklearn.linear_model import LinearRegression\n",
        "from sklearn.metrics import mean_absolute_error, r2_score\n",
        "from sklearn.preprocessing import StandardScaler\n",
        "\n",
        "scaler = StandardScaler()\n",
        "X_train_scaled = scaler.fit_transform(X_train_enc)\n",
        "X_val_scaled = scaler.transform(X_val_enc)\n",
        "\n",
        "ks = []\n",
        "MAEs = []\n",
        "for k in range(1, len(X_train_enc.columns)+1):\n",
        "    print(f'{k} features')\n",
        "    \n",
        "    selector = SelectKBest(score_func=f_regression, k=k)\n",
        "    X_train_selected = selector.fit_transform(X_train_scaled, y_train)\n",
        "    X_val_selected = selector.transform(X_val_scaled)\n",
        "    \n",
        "    model = LinearRegression()\n",
        "    model.fit(X_train_selected, y_train)\n",
        "    \n",
        "    y_pred = model.predict(X_val_selected)\n",
        "    mae = mean_absolute_error(y_val, y_pred)\n",
        "    r2 = r2_score(y_val, y_pred)\n",
        "    print(f'Test MAE: ${mae:,.0f} \\n')\n",
        "    print(f'r^2: ${r2:,.0f} \\n')\n",
        "    ks.append(k)\n",
        "    MAEs.append(mae)"
      ],
      "execution_count": 81,
      "outputs": [
        {
          "output_type": "stream",
          "name": "stdout",
          "text": "1 features\nTest MAE: $33,203 \n\nr^2: $1 \n\n2 features\nTest MAE: $29,410 \n\nr^2: $1 \n\n3 features\nTest MAE: $26,847 \n\nr^2: $1 \n\n4 features\nTest MAE: $25,911 \n\nr^2: $1 \n\n5 features\nTest MAE: $25,928 \n\nr^2: $1 \n\n6 features\nTest MAE: $24,681 \n\nr^2: $1 \n\n7 features\nTest MAE: $24,561 \n\nr^2: $1 \n\n8 features\nTest MAE: $24,455 \n\nr^2: $1 \n\n9 features\nTest MAE: $24,472 \n\nr^2: $1 \n\n10 features\nTest MAE: $22,310 \n\nr^2: $1 \n\n11 features\nTest MAE: $22,152 \n\nr^2: $1 \n\n12 features\nTest MAE: $21,936 \n\nr^2: $1 \n\n13 features\nTest MAE: $21,946 \n\nr^2: $1 \n\n14 features\nTest MAE: $21,853 \n\nr^2: $1 \n\n15 features\nTest MAE: $21,778 \n\nr^2: $1 \n\n16 features\nTest MAE: $21,669 \n\nr^2: $1 \n\n17 features\nTest MAE: $21,662 \n\nr^2: $1 \n\n18 features\nTest MAE: $21,619 \n\nr^2: $1 \n\n19 features\nTest MAE: $21,643 \n\nr^2: $1 \n\n20 features\nTest MAE: $21,588 \n\nr^2: $1 \n\n21 features\nTest MAE: $21,233 \n\nr^2: $1 \n\n22 features\nTest MAE: $21,220 \n\nr^2: $1 \n\n23 features\nTest MAE: $21,376 \n\nr^2: $1 \n\n24 features\nTest MAE: $21,634 \n\nr^2: $1 \n\n25 features\nTest MAE: $21,480 \n\nr^2: $1 \n\n26 features\nTest MAE: $21,478 \n\nr^2: $1 \n\n27 features\nTest MAE: $21,483 \n\nr^2: $1 \n\n28 features\nTest MAE: $21,492 \n\nr^2: $1 \n\n29 features\nTest MAE: $21,064 \n\nr^2: $1 \n\n30 features\nTest MAE: $21,072 \n\nr^2: $1 \n\n31 features\nTest MAE: $21,072 \n\nr^2: $1 \n\n32 features\nTest MAE: $21,109 \n\nr^2: $1 \n\n33 features\nTest MAE: $20,710 \n\nr^2: $1 \n\n34 features\nTest MAE: $20,907 \n\nr^2: $1 \n\n35 features\nTest MAE: $21,107 \n\nr^2: $1 \n\n36 features\nTest MAE: $21,032 \n\nr^2: $1 \n\n37 features\nTest MAE: $20,910 \n\nr^2: $1 \n\n38 features\nTest MAE: $20,909 \n\nr^2: $1 \n\n39 features\nTest MAE: $20,915 \n\nr^2: $1 \n\n40 features\nTest MAE: $20,952 \n\nr^2: $1 \n\n41 features\nTest MAE: $20,964 \n\nr^2: $1 \n\n42 features\nTest MAE: $21,003 \n\nr^2: $1 \n\n43 features\nTest MAE: $20,891 \n\nr^2: $1 \n\n44 features\nTest MAE: $20,816 \n\nr^2: $1 \n\n45 features\nTest MAE: $20,892 \n\nr^2: $1 \n\n46 features\nTest MAE: $21,111 \n\nr^2: $1 \n\n47 features\nTest MAE: $21,111 \n\nr^2: $1 \n\n48 features\nTest MAE: $21,167 \n\nr^2: $1 \n\n49 features\nTest MAE: $21,193 \n\nr^2: $1 \n\n50 features\nTest MAE: $21,192 \n\nr^2: $1 \n\n51 features\nTest MAE: $21,186 \n\nr^2: $1 \n\n52 features\nTest MAE: $21,031 \n\nr^2: $1 \n\n53 features\nTest MAE: $21,038 \n\nr^2: $1 \n\n54 features\nTest MAE: $21,006 \n\nr^2: $1 \n\n55 features\nTest MAE: $20,358 \n\nr^2: $1 \n\n56 features\nTest MAE: $20,580 \n\nr^2: $1 \n\n57 features\nTest MAE: $20,386 \n\nr^2: $1 \n\n58 features\nTest MAE: $20,424 \n\nr^2: $1 \n\n59 features\nTest MAE: $20,009 \n\nr^2: $1 \n\n60 features\nTest MAE: $20,087 \n\nr^2: $1 \n\n61 features\nTest MAE: $20,305 \n\nr^2: $1 \n\n62 features\nTest MAE: $20,094 \n\nr^2: $1 \n\n63 features\nTest MAE: $20,081 \n\nr^2: $1 \n\n64 features\nTest MAE: $20,026 \n\nr^2: $1 \n\n65 features\nTest MAE: $20,034 \n\nr^2: $1 \n\n66 features\nTest MAE: $20,024 \n\nr^2: $1 \n\n67 features\nTest MAE: $19,813 \n\nr^2: $1 \n\n68 features\nTest MAE: $20,140 \n\nr^2: $1 \n\n69 features\nTest MAE: $20,101 \n\nr^2: $1 \n\n70 features\nTest MAE: $20,184 \n\nr^2: $1 \n\n71 features\nTest MAE: $20,218 \n\nr^2: $1 \n\n72 features\nTest MAE: $20,228 \n\nr^2: $1 \n\n73 features\nTest MAE: $20,215 \n\nr^2: $1 \n\n74 features\nTest MAE: $20,216 \n\nr^2: $1 \n\n75 features\nTest MAE: $20,526 \n\nr^2: $1 \n\n76 features\nTest MAE: $20,519 \n\nr^2: $1 \n\n77 features\nTest MAE: $20,532 \n\nr^2: $1 \n\n78 features\nTest MAE: $20,520 \n\nr^2: $1 \n\n79 features\nTest MAE: $20,589 \n\nr^2: $1 \n\n80 features\nTest MAE: $20,763 \n\nr^2: $1 \n\n81 features\nTest MAE: $20,769 \n\nr^2: $1 \n\n82 features\nTest MAE: $20,771 \n\nr^2: $1 \n\n83 features\nTest MAE: $20,808 \n\nr^2: $1 \n\n84 features\nTest MAE: $20,734 \n\nr^2: $1 \n\n85 features\nTest MAE: $20,801 \n\nr^2: $1 \n\n86 features\nTest MAE: $20,801 \n\nr^2: $1 \n\n87 features\nTest MAE: $20,783 \n\nr^2: $1 \n\n88 features\nTest MAE: $21,061 \n\nr^2: $1 \n\n89 features\nTest MAE: $21,024 \n\nr^2: $1 \n\n90 features\nTest MAE: $21,029 \n\nr^2: $1 \n\n91 features\nTest MAE: $21,073 \n\nr^2: $1 \n\n92 features\nTest MAE: $21,087 \n\nr^2: $1 \n\n93 features\nTest MAE: $20,842 \n\nr^2: $1 \n\n94 features\nTest MAE: $20,968 \n\nr^2: $1 \n\n95 features\nTest MAE: $20,977 \n\nr^2: $1 \n\n96 features\nTest MAE: $20,981 \n\nr^2: $1 \n\n97 features\nTest MAE: $20,986 \n\nr^2: $1 \n\n98 features\nTest MAE: $20,983 \n\nr^2: $1 \n\n99 features\nTest MAE: $20,996 \n\nr^2: $1 \n\n100 features\nTest MAE: $21,030 \n\nr^2: $1 \n\n101 features\nTest MAE: $21,053 \n\nr^2: $1 \n\n102 features\nTest MAE: $21,061 \n\nr^2: $1 \n\n103 features\nTest MAE: $21,095 \n\nr^2: $1 \n\n104 features\nTest MAE: $21,112 \n\nr^2: $1 \n\n105 features\nTest MAE: $21,127 \n\nr^2: $1 \n\n106 features\nTest MAE: $21,129 \n\nr^2: $1 \n\n107 features\nTest MAE: $21,130 \n\nr^2: $1 \n\n108 features\nTest MAE: $21,129 \n\nr^2: $1 \n\n109 features\nTest MAE: $21,142 \n\nr^2: $1 \n\n110 features\nTest MAE: $21,077 \n\nr^2: $1 \n\n111 features\nTest MAE: $21,133 \n\nr^2: $1 \n\n112 features\nTest MAE: $21,102 \n\nr^2: $1 \n\n113 features\nTest MAE: $21,104 \n\nr^2: $1 \n\n114 features\nTest MAE: $21,001 \n\nr^2: $1 \n\n115 features\nTest MAE: $20,931 \n\nr^2: $1 \n\n116 features\nTest MAE: $20,913 \n\nr^2: $1 \n\n117 features\nTest MAE: $20,917 \n\nr^2: $1 \n\n118 features\nTest MAE: $20,965 \n\nr^2: $1 \n\n119 features\nTest MAE: $20,963 \n\nr^2: $1 \n\n120 features\nTest MAE: $20,969 \n\nr^2: $1 \n\n121 features\nTest MAE: $21,005 \n\nr^2: $1 \n\n122 features\nTest MAE: $20,976 \n\nr^2: $1 \n\n123 features\nTest MAE: $20,976 \n\nr^2: $1 \n\n124 features\nTest MAE: $20,983 \n\nr^2: $1 \n\n125 features\nTest MAE: $20,986 \n\nr^2: $1 \n\n126 features\nTest MAE: $21,014 \n\nr^2: $1 \n\n127 features\nTest MAE: $20,995 \n\nr^2: $1 \n\n128 features\nTest MAE: $20,968 \n\nr^2: $1 \n\n129 features\nTest MAE: $20,956 \n\nr^2: $1 \n\n130 features\nTest MAE: $20,969 \n\nr^2: $1 \n\n131 features\nTest MAE: $20,961 \n\nr^2: $1 \n\n132 features\nTest MAE: $20,957 \n\nr^2: $1 \n\n133 features\nTest MAE: $20,904 \n\nr^2: $1 \n\n134 features\nTest MAE: $20,895 \n\nr^2: $1 \n\n135 features\nTest MAE: $17,505,089,296,606 \n\nr^2: $-30,101,476,454,800,642,048 \n\n136 features\nTest MAE: $28,717,343,748,592 \n\nr^2: $-81,011,686,012,058,435,584 \n\n137 features\nTest MAE: $915,714,156,267,868 \n\nr^2: $-82,371,883,033,464,575,885,312 \n\n138 features\nTest MAE: $138,373,596,382,068 \n\nr^2: $-1,880,899,517,006,544,896,000 \n\n139 features\nTest MAE: $1,797,675,590,065,612 \n\nr^2: $-317,454,714,117,638,934,495,232 \n\n140 features\nTest MAE: $2,003,484,110,590,024 \n\nr^2: $-394,303,782,122,003,177,144,320 \n\n141 features\nTest MAE: $350,053,274,146,411 \n\nr^2: $-12,037,254,036,227,146,907,648 \n\n142 features\nTest MAE: $25,993,472,730,553 \n\nr^2: $-66,372,434,495,920,365,568 \n\n143 features\nTest MAE: $5,142,411,442,508,108 \n\nr^2: $-2,597,722,648,466,353,528,242,176 \n\n144 features\nTest MAE: $1,618,116,563,760,459 \n\nr^2: $-257,204,607,992,286,612,029,440 \n\n145 features\nTest MAE: $7,677,388,487,131 \n\nr^2: $-5,790,101,404,649,756,672 \n\n146 features\nTest MAE: $4,083,854,972,569,049 \n\nr^2: $-1,638,323,872,884,297,878,732,800 \n\n147 features\nTest MAE: $2,653,523,079,513,475 \n\nr^2: $-691,679,455,968,221,173,121,024 \n\n148 features\nTest MAE: $482,257,823,603,987 \n\nr^2: $-22,846,396,075,026,946,195,456 \n\n149 features\nTest MAE: $491,314,046,965,431 \n\nr^2: $-23,712,508,523,328,353,337,344 \n\n150 features\nTest MAE: $479,163,034,688,382 \n\nr^2: $-22,554,112,971,139,257,991,168 \n\n151 features\nTest MAE: $2,668,767,226,630,500 \n\nr^2: $-699,649,501,985,431,460,249,600 \n\n152 features\nTest MAE: $733,967,603,798,853 \n\nr^2: $-52,919,157,380,805,528,911,872 \n\n153 features\nTest MAE: $1,438,657,887,673,383 \n\nr^2: $-203,317,237,477,711,403,810,816 \n\n154 features\nTest MAE: $2,184,251,863,010,489 \n\nr^2: $-468,667,207,932,486,279,495,680 \n\n155 features\nTest MAE: $3,420,384,242,541,241 \n\nr^2: $-1,149,235,232,744,692,017,790,976 \n\n156 features\nTest MAE: $24,454,563,832,351,168 \n\nr^2: $-58,746,091,903,277,227,506,139,136 \n\n157 features\nTest MAE: $8,437,656,562,551,477 \n\nr^2: $-6,993,632,810,122,712,927,174,656 \n\n"
        }
      ]
    },
    {
      "cell_type": "code",
      "execution_count": 77,
      "metadata": {},
      "outputs": [
        {
          "output_type": "display_data",
          "data": {
            "text/plain": "<Figure size 432x288 with 1 Axes>",
            "image/svg+xml": "<?xml version=\"1.0\" encoding=\"utf-8\" standalone=\"no\"?>\n<!DOCTYPE svg PUBLIC \"-//W3C//DTD SVG 1.1//EN\"\n  \"http://www.w3.org/Graphics/SVG/1.1/DTD/svg11.dtd\">\n<!-- Created with matplotlib (https://matplotlib.org/) -->\n<svg height=\"248.518125pt\" version=\"1.1\" viewBox=\"0 0 388.0125 248.518125\" width=\"388.0125pt\" xmlns=\"http://www.w3.org/2000/svg\" xmlns:xlink=\"http://www.w3.org/1999/xlink\">\n <defs>\n  <style type=\"text/css\">\n*{stroke-linecap:butt;stroke-linejoin:round;}\n  </style>\n </defs>\n <g id=\"figure_1\">\n  <g id=\"patch_1\">\n   <path d=\"M 0 248.518125 \nL 388.0125 248.518125 \nL 388.0125 0 \nL 0 0 \nz\n\" style=\"fill:none;\"/>\n  </g>\n  <g id=\"axes_1\">\n   <g id=\"patch_2\">\n    <path d=\"M 46.0125 224.64 \nL 380.8125 224.64 \nL 380.8125 7.2 \nL 46.0125 7.2 \nz\n\" style=\"fill:#ffffff;\"/>\n   </g>\n   <g id=\"PathCollection_1\">\n    <defs>\n     <path d=\"M 0 3 \nC 0.795609 3 1.55874 2.683901 2.12132 2.12132 \nC 2.683901 1.55874 3 0.795609 3 0 \nC 3 -0.795609 2.683901 -1.55874 2.12132 -2.12132 \nC 1.55874 -2.683901 0.795609 -3 0 -3 \nC -0.795609 -3 -1.55874 -2.683901 -2.12132 -2.12132 \nC -2.683901 -1.55874 -3 -0.795609 -3 0 \nC -3 0.795609 -2.683901 1.55874 -2.12132 2.12132 \nC -1.55874 2.683901 -0.795609 3 0 3 \nz\n\" id=\"m16906ed422\" style=\"stroke:#ffffff;stroke-width:0.75;\"/>\n    </defs>\n    <g clip-path=\"url(#pb59060f303)\">\n     <use style=\"fill:#1f77b4;stroke:#ffffff;stroke-width:0.75;\" x=\"61.253934\" xlink:href=\"#m16906ed422\" y=\"17.08386\"/>\n     <use style=\"fill:#1f77b4;stroke:#ffffff;stroke-width:0.75;\" x=\"63.612982\" xlink:href=\"#m16906ed422\" y=\"73.084161\"/>\n     <use style=\"fill:#1f77b4;stroke:#ffffff;stroke-width:0.75;\" x=\"65.972029\" xlink:href=\"#m16906ed422\" y=\"110.908905\"/>\n     <use style=\"fill:#1f77b4;stroke:#ffffff;stroke-width:0.75;\" x=\"68.331077\" xlink:href=\"#m16906ed422\" y=\"124.729696\"/>\n     <use style=\"fill:#1f77b4;stroke:#ffffff;stroke-width:0.75;\" x=\"70.690124\" xlink:href=\"#m16906ed422\" y=\"124.476104\"/>\n     <use style=\"fill:#1f77b4;stroke:#ffffff;stroke-width:0.75;\" x=\"73.049172\" xlink:href=\"#m16906ed422\" y=\"142.891231\"/>\n     <use style=\"fill:#1f77b4;stroke:#ffffff;stroke-width:0.75;\" x=\"75.408219\" xlink:href=\"#m16906ed422\" y=\"144.657994\"/>\n     <use style=\"fill:#1f77b4;stroke:#ffffff;stroke-width:0.75;\" x=\"77.767267\" xlink:href=\"#m16906ed422\" y=\"146.224104\"/>\n     <use style=\"fill:#1f77b4;stroke:#ffffff;stroke-width:0.75;\" x=\"80.126314\" xlink:href=\"#m16906ed422\" y=\"145.970019\"/>\n     <use style=\"fill:#1f77b4;stroke:#ffffff;stroke-width:0.75;\" x=\"82.485362\" xlink:href=\"#m16906ed422\" y=\"177.893737\"/>\n     <use style=\"fill:#1f77b4;stroke:#ffffff;stroke-width:0.75;\" x=\"84.844409\" xlink:href=\"#m16906ed422\" y=\"180.228554\"/>\n     <use style=\"fill:#1f77b4;stroke:#ffffff;stroke-width:0.75;\" x=\"87.203457\" xlink:href=\"#m16906ed422\" y=\"183.404728\"/>\n     <use style=\"fill:#1f77b4;stroke:#ffffff;stroke-width:0.75;\" x=\"89.562504\" xlink:href=\"#m16906ed422\" y=\"183.269661\"/>\n     <use style=\"fill:#1f77b4;stroke:#ffffff;stroke-width:0.75;\" x=\"91.921552\" xlink:href=\"#m16906ed422\" y=\"184.637175\"/>\n     <use style=\"fill:#1f77b4;stroke:#ffffff;stroke-width:0.75;\" x=\"94.2806\" xlink:href=\"#m16906ed422\" y=\"185.737253\"/>\n     <use style=\"fill:#1f77b4;stroke:#ffffff;stroke-width:0.75;\" x=\"96.639647\" xlink:href=\"#m16906ed422\" y=\"187.347552\"/>\n     <use style=\"fill:#1f77b4;stroke:#ffffff;stroke-width:0.75;\" x=\"98.998695\" xlink:href=\"#m16906ed422\" y=\"187.454197\"/>\n     <use style=\"fill:#1f77b4;stroke:#ffffff;stroke-width:0.75;\" x=\"101.357742\" xlink:href=\"#m16906ed422\" y=\"188.097351\"/>\n     <use style=\"fill:#1f77b4;stroke:#ffffff;stroke-width:0.75;\" x=\"103.71679\" xlink:href=\"#m16906ed422\" y=\"187.737911\"/>\n     <use style=\"fill:#1f77b4;stroke:#ffffff;stroke-width:0.75;\" x=\"106.075837\" xlink:href=\"#m16906ed422\" y=\"188.546834\"/>\n     <use style=\"fill:#1f77b4;stroke:#ffffff;stroke-width:0.75;\" x=\"108.434885\" xlink:href=\"#m16906ed422\" y=\"193.794123\"/>\n     <use style=\"fill:#1f77b4;stroke:#ffffff;stroke-width:0.75;\" x=\"110.793932\" xlink:href=\"#m16906ed422\" y=\"193.977222\"/>\n     <use style=\"fill:#1f77b4;stroke:#ffffff;stroke-width:0.75;\" x=\"113.15298\" xlink:href=\"#m16906ed422\" y=\"191.677159\"/>\n     <use style=\"fill:#1f77b4;stroke:#ffffff;stroke-width:0.75;\" x=\"115.512027\" xlink:href=\"#m16906ed422\" y=\"187.865924\"/>\n     <use style=\"fill:#1f77b4;stroke:#ffffff;stroke-width:0.75;\" x=\"117.871075\" xlink:href=\"#m16906ed422\" y=\"190.137168\"/>\n     <use style=\"fill:#1f77b4;stroke:#ffffff;stroke-width:0.75;\" x=\"120.230122\" xlink:href=\"#m16906ed422\" y=\"190.169399\"/>\n     <use style=\"fill:#1f77b4;stroke:#ffffff;stroke-width:0.75;\" x=\"122.58917\" xlink:href=\"#m16906ed422\" y=\"190.10057\"/>\n     <use style=\"fill:#1f77b4;stroke:#ffffff;stroke-width:0.75;\" x=\"124.948217\" xlink:href=\"#m16906ed422\" y=\"189.971115\"/>\n     <use style=\"fill:#1f77b4;stroke:#ffffff;stroke-width:0.75;\" x=\"127.307265\" xlink:href=\"#m16906ed422\" y=\"196.281311\"/>\n     <use style=\"fill:#1f77b4;stroke:#ffffff;stroke-width:0.75;\" x=\"129.666313\" xlink:href=\"#m16906ed422\" y=\"196.169491\"/>\n     <use style=\"fill:#1f77b4;stroke:#ffffff;stroke-width:0.75;\" x=\"132.02536\" xlink:href=\"#m16906ed422\" y=\"196.169491\"/>\n     <use style=\"fill:#1f77b4;stroke:#ffffff;stroke-width:0.75;\" x=\"134.384408\" xlink:href=\"#m16906ed422\" y=\"195.62025\"/>\n     <use style=\"fill:#1f77b4;stroke:#ffffff;stroke-width:0.75;\" x=\"136.743455\" xlink:href=\"#m16906ed422\" y=\"201.516938\"/>\n     <use style=\"fill:#1f77b4;stroke:#ffffff;stroke-width:0.75;\" x=\"139.102503\" xlink:href=\"#m16906ed422\" y=\"198.596273\"/>\n     <use style=\"fill:#1f77b4;stroke:#ffffff;stroke-width:0.75;\" x=\"141.46155\" xlink:href=\"#m16906ed422\" y=\"195.644515\"/>\n     <use style=\"fill:#1f77b4;stroke:#ffffff;stroke-width:0.75;\" x=\"143.820598\" xlink:href=\"#m16906ed422\" y=\"196.750613\"/>\n     <use style=\"fill:#1f77b4;stroke:#ffffff;stroke-width:0.75;\" x=\"146.179645\" xlink:href=\"#m16906ed422\" y=\"198.56492\"/>\n     <use style=\"fill:#1f77b4;stroke:#ffffff;stroke-width:0.75;\" x=\"148.538693\" xlink:href=\"#m16906ed422\" y=\"198.567694\"/>\n     <use style=\"fill:#1f77b4;stroke:#ffffff;stroke-width:0.75;\" x=\"150.89774\" xlink:href=\"#m16906ed422\" y=\"198.486475\"/>\n     <use style=\"fill:#1f77b4;stroke:#ffffff;stroke-width:0.75;\" x=\"153.256788\" xlink:href=\"#m16906ed422\" y=\"197.942112\"/>\n     <use style=\"fill:#1f77b4;stroke:#ffffff;stroke-width:0.75;\" x=\"155.615835\" xlink:href=\"#m16906ed422\" y=\"197.757865\"/>\n     <use style=\"fill:#1f77b4;stroke:#ffffff;stroke-width:0.75;\" x=\"157.974883\" xlink:href=\"#m16906ed422\" y=\"197.178903\"/>\n     <use style=\"fill:#1f77b4;stroke:#ffffff;stroke-width:0.75;\" x=\"160.33393\" xlink:href=\"#m16906ed422\" y=\"198.839923\"/>\n     <use style=\"fill:#1f77b4;stroke:#ffffff;stroke-width:0.75;\" x=\"162.692978\" xlink:href=\"#m16906ed422\" y=\"199.94412\"/>\n     <use style=\"fill:#1f77b4;stroke:#ffffff;stroke-width:0.75;\" x=\"165.052026\" xlink:href=\"#m16906ed422\" y=\"198.819636\"/>\n     <use style=\"fill:#1f77b4;stroke:#ffffff;stroke-width:0.75;\" x=\"167.411073\" xlink:href=\"#m16906ed422\" y=\"195.58907\"/>\n     <use style=\"fill:#1f77b4;stroke:#ffffff;stroke-width:0.75;\" x=\"169.770121\" xlink:href=\"#m16906ed422\" y=\"195.58907\"/>\n     <use style=\"fill:#1f77b4;stroke:#ffffff;stroke-width:0.75;\" x=\"172.129168\" xlink:href=\"#m16906ed422\" y=\"194.767263\"/>\n     <use style=\"fill:#1f77b4;stroke:#ffffff;stroke-width:0.75;\" x=\"174.488216\" xlink:href=\"#m16906ed422\" y=\"194.376732\"/>\n     <use style=\"fill:#1f77b4;stroke:#ffffff;stroke-width:0.75;\" x=\"176.847263\" xlink:href=\"#m16906ed422\" y=\"194.399916\"/>\n     <use style=\"fill:#1f77b4;stroke:#ffffff;stroke-width:0.75;\" x=\"179.206311\" xlink:href=\"#m16906ed422\" y=\"194.480996\"/>\n     <use style=\"fill:#1f77b4;stroke:#ffffff;stroke-width:0.75;\" x=\"181.565358\" xlink:href=\"#m16906ed422\" y=\"196.769056\"/>\n     <use style=\"fill:#1f77b4;stroke:#ffffff;stroke-width:0.75;\" x=\"183.924406\" xlink:href=\"#m16906ed422\" y=\"196.664667\"/>\n     <use style=\"fill:#1f77b4;stroke:#ffffff;stroke-width:0.75;\" x=\"186.283453\" xlink:href=\"#m16906ed422\" y=\"197.146931\"/>\n     <use style=\"fill:#1f77b4;stroke:#ffffff;stroke-width:0.75;\" x=\"188.642501\" xlink:href=\"#m16906ed422\" y=\"206.70071\"/>\n     <use style=\"fill:#1f77b4;stroke:#ffffff;stroke-width:0.75;\" x=\"191.001548\" xlink:href=\"#m16906ed422\" y=\"203.434517\"/>\n     <use style=\"fill:#1f77b4;stroke:#ffffff;stroke-width:0.75;\" x=\"193.360596\" xlink:href=\"#m16906ed422\" y=\"206.288768\"/>\n     <use style=\"fill:#1f77b4;stroke:#ffffff;stroke-width:0.75;\" x=\"195.719643\" xlink:href=\"#m16906ed422\" y=\"205.739173\"/>\n     <use style=\"fill:#1f77b4;stroke:#ffffff;stroke-width:0.75;\" x=\"198.078691\" xlink:href=\"#m16906ed422\" y=\"211.864273\"/>\n     <use style=\"fill:#1f77b4;stroke:#ffffff;stroke-width:0.75;\" x=\"200.437739\" xlink:href=\"#m16906ed422\" y=\"210.704553\"/>\n     <use style=\"fill:#1f77b4;stroke:#ffffff;stroke-width:0.75;\" x=\"202.796786\" xlink:href=\"#m16906ed422\" y=\"207.492221\"/>\n     <use style=\"fill:#1f77b4;stroke:#ffffff;stroke-width:0.75;\" x=\"205.155834\" xlink:href=\"#m16906ed422\" y=\"210.600624\"/>\n     <use style=\"fill:#1f77b4;stroke:#ffffff;stroke-width:0.75;\" x=\"207.514881\" xlink:href=\"#m16906ed422\" y=\"210.788899\"/>\n     <use style=\"fill:#1f77b4;stroke:#ffffff;stroke-width:0.75;\" x=\"209.873929\" xlink:href=\"#m16906ed422\" y=\"211.605035\"/>\n     <use style=\"fill:#1f77b4;stroke:#ffffff;stroke-width:0.75;\" x=\"212.232976\" xlink:href=\"#m16906ed422\" y=\"211.48593\"/>\n     <use style=\"fill:#1f77b4;stroke:#ffffff;stroke-width:0.75;\" x=\"214.592024\" xlink:href=\"#m16906ed422\" y=\"211.637752\"/>\n     <use style=\"fill:#1f77b4;stroke:#ffffff;stroke-width:0.75;\" x=\"216.951071\" xlink:href=\"#m16906ed422\" y=\"214.75614\"/>\n     <use style=\"fill:#1f77b4;stroke:#ffffff;stroke-width:0.75;\" x=\"219.310119\" xlink:href=\"#m16906ed422\" y=\"209.932032\"/>\n     <use style=\"fill:#1f77b4;stroke:#ffffff;stroke-width:0.75;\" x=\"221.669166\" xlink:href=\"#m16906ed422\" y=\"210.503973\"/>\n     <use style=\"fill:#1f77b4;stroke:#ffffff;stroke-width:0.75;\" x=\"224.028214\" xlink:href=\"#m16906ed422\" y=\"209.280923\"/>\n     <use style=\"fill:#1f77b4;stroke:#ffffff;stroke-width:0.75;\" x=\"226.387261\" xlink:href=\"#m16906ed422\" y=\"208.767779\"/>\n     <use style=\"fill:#1f77b4;stroke:#ffffff;stroke-width:0.75;\" x=\"228.746309\" xlink:href=\"#m16906ed422\" y=\"208.622901\"/>\n     <use style=\"fill:#1f77b4;stroke:#ffffff;stroke-width:0.75;\" x=\"231.105357\" xlink:href=\"#m16906ed422\" y=\"208.822093\"/>\n     <use style=\"fill:#1f77b4;stroke:#ffffff;stroke-width:0.75;\" x=\"233.464404\" xlink:href=\"#m16906ed422\" y=\"208.807897\"/>\n     <use style=\"fill:#1f77b4;stroke:#ffffff;stroke-width:0.75;\" x=\"235.823452\" xlink:href=\"#m16906ed422\" y=\"204.228593\"/>\n     <use style=\"fill:#1f77b4;stroke:#ffffff;stroke-width:0.75;\" x=\"238.182499\" xlink:href=\"#m16906ed422\" y=\"204.32948\"/>\n     <use style=\"fill:#1f77b4;stroke:#ffffff;stroke-width:0.75;\" x=\"240.541547\" xlink:href=\"#m16906ed422\" y=\"204.1391\"/>\n     <use style=\"fill:#1f77b4;stroke:#ffffff;stroke-width:0.75;\" x=\"242.900594\" xlink:href=\"#m16906ed422\" y=\"204.314858\"/>\n     <use style=\"fill:#1f77b4;stroke:#ffffff;stroke-width:0.75;\" x=\"245.259642\" xlink:href=\"#m16906ed422\" y=\"203.298494\"/>\n     <use style=\"fill:#1f77b4;stroke:#ffffff;stroke-width:0.75;\" x=\"247.618689\" xlink:href=\"#m16906ed422\" y=\"200.721458\"/>\n     <use style=\"fill:#1f77b4;stroke:#ffffff;stroke-width:0.75;\" x=\"249.977737\" xlink:href=\"#m16906ed422\" y=\"200.633302\"/>\n     <use style=\"fill:#1f77b4;stroke:#ffffff;stroke-width:0.75;\" x=\"252.336784\" xlink:href=\"#m16906ed422\" y=\"200.608719\"/>\n     <use style=\"fill:#1f77b4;stroke:#ffffff;stroke-width:0.75;\" x=\"254.695832\" xlink:href=\"#m16906ed422\" y=\"200.05826\"/>\n     <use style=\"fill:#1f77b4;stroke:#ffffff;stroke-width:0.75;\" x=\"257.054879\" xlink:href=\"#m16906ed422\" y=\"201.16118\"/>\n     <use style=\"fill:#1f77b4;stroke:#ffffff;stroke-width:0.75;\" x=\"259.413927\" xlink:href=\"#m16906ed422\" y=\"200.173513\"/>\n     <use style=\"fill:#1f77b4;stroke:#ffffff;stroke-width:0.75;\" x=\"261.772974\" xlink:href=\"#m16906ed422\" y=\"200.170122\"/>\n     <use style=\"fill:#1f77b4;stroke:#ffffff;stroke-width:0.75;\" x=\"264.132022\" xlink:href=\"#m16906ed422\" y=\"200.437512\"/>\n     <use style=\"fill:#1f77b4;stroke:#ffffff;stroke-width:0.75;\" x=\"266.49107\" xlink:href=\"#m16906ed422\" y=\"196.323994\"/>\n     <use style=\"fill:#1f77b4;stroke:#ffffff;stroke-width:0.75;\" x=\"268.850117\" xlink:href=\"#m16906ed422\" y=\"196.873815\"/>\n     <use style=\"fill:#1f77b4;stroke:#ffffff;stroke-width:0.75;\" x=\"271.209165\" xlink:href=\"#m16906ed422\" y=\"196.794214\"/>\n     <use style=\"fill:#1f77b4;stroke:#ffffff;stroke-width:0.75;\" x=\"273.568212\" xlink:href=\"#m16906ed422\" y=\"196.149403\"/>\n     <use style=\"fill:#1f77b4;stroke:#ffffff;stroke-width:0.75;\" x=\"275.92726\" xlink:href=\"#m16906ed422\" y=\"195.948223\"/>\n     <use style=\"fill:#1f77b4;stroke:#ffffff;stroke-width:0.75;\" x=\"278.286307\" xlink:href=\"#m16906ed422\" y=\"199.562281\"/>\n     <use style=\"fill:#1f77b4;stroke:#ffffff;stroke-width:0.75;\" x=\"280.645355\" xlink:href=\"#m16906ed422\" y=\"197.696508\"/>\n     <use style=\"fill:#1f77b4;stroke:#ffffff;stroke-width:0.75;\" x=\"283.004402\" xlink:href=\"#m16906ed422\" y=\"197.566421\"/>\n     <use style=\"fill:#1f77b4;stroke:#ffffff;stroke-width:0.75;\" x=\"285.36345\" xlink:href=\"#m16906ed422\" y=\"197.511443\"/>\n     <use style=\"fill:#1f77b4;stroke:#ffffff;stroke-width:0.75;\" x=\"287.722497\" xlink:href=\"#m16906ed422\" y=\"197.432194\"/>\n     <use style=\"fill:#1f77b4;stroke:#ffffff;stroke-width:0.75;\" x=\"290.081545\" xlink:href=\"#m16906ed422\" y=\"197.476968\"/>\n     <use style=\"fill:#1f77b4;stroke:#ffffff;stroke-width:0.75;\" x=\"292.440592\" xlink:href=\"#m16906ed422\" y=\"197.288025\"/>\n     <use style=\"fill:#1f77b4;stroke:#ffffff;stroke-width:0.75;\" x=\"294.79964\" xlink:href=\"#m16906ed422\" y=\"196.781439\"/>\n     <use style=\"fill:#1f77b4;stroke:#ffffff;stroke-width:0.75;\" x=\"297.158687\" xlink:href=\"#m16906ed422\" y=\"196.450604\"/>\n     <use style=\"fill:#1f77b4;stroke:#ffffff;stroke-width:0.75;\" x=\"299.517735\" xlink:href=\"#m16906ed422\" y=\"196.327838\"/>\n     <use style=\"fill:#1f77b4;stroke:#ffffff;stroke-width:0.75;\" x=\"301.876783\" xlink:href=\"#m16906ed422\" y=\"195.83174\"/>\n     <use style=\"fill:#1f77b4;stroke:#ffffff;stroke-width:0.75;\" x=\"304.23583\" xlink:href=\"#m16906ed422\" y=\"195.57115\"/>\n     <use style=\"fill:#1f77b4;stroke:#ffffff;stroke-width:0.75;\" x=\"306.594878\" xlink:href=\"#m16906ed422\" y=\"195.358258\"/>\n     <use style=\"fill:#1f77b4;stroke:#ffffff;stroke-width:0.75;\" x=\"308.953925\" xlink:href=\"#m16906ed422\" y=\"195.320709\"/>\n     <use style=\"fill:#1f77b4;stroke:#ffffff;stroke-width:0.75;\" x=\"311.312973\" xlink:href=\"#m16906ed422\" y=\"195.312456\"/>\n     <use style=\"fill:#1f77b4;stroke:#ffffff;stroke-width:0.75;\" x=\"313.67202\" xlink:href=\"#m16906ed422\" y=\"195.322113\"/>\n     <use style=\"fill:#1f77b4;stroke:#ffffff;stroke-width:0.75;\" x=\"316.031068\" xlink:href=\"#m16906ed422\" y=\"195.127831\"/>\n     <use style=\"fill:#1f77b4;stroke:#ffffff;stroke-width:0.75;\" x=\"318.390115\" xlink:href=\"#m16906ed422\" y=\"196.093431\"/>\n     <use style=\"fill:#1f77b4;stroke:#ffffff;stroke-width:0.75;\" x=\"320.749163\" xlink:href=\"#m16906ed422\" y=\"195.264179\"/>\n     <use style=\"fill:#1f77b4;stroke:#ffffff;stroke-width:0.75;\" x=\"323.10821\" xlink:href=\"#m16906ed422\" y=\"195.719129\"/>\n     <use style=\"fill:#1f77b4;stroke:#ffffff;stroke-width:0.75;\" x=\"325.467258\" xlink:href=\"#m16906ed422\" y=\"195.698079\"/>\n     <use style=\"fill:#1f77b4;stroke:#ffffff;stroke-width:0.75;\" x=\"327.826305\" xlink:href=\"#m16906ed422\" y=\"197.213026\"/>\n     <use style=\"fill:#1f77b4;stroke:#ffffff;stroke-width:0.75;\" x=\"330.185353\" xlink:href=\"#m16906ed422\" y=\"198.245616\"/>\n     <use style=\"fill:#1f77b4;stroke:#ffffff;stroke-width:0.75;\" x=\"332.5444\" xlink:href=\"#m16906ed422\" y=\"198.509837\"/>\n     <use style=\"fill:#1f77b4;stroke:#ffffff;stroke-width:0.75;\" x=\"334.903448\" xlink:href=\"#m16906ed422\" y=\"198.456007\"/>\n     <use style=\"fill:#1f77b4;stroke:#ffffff;stroke-width:0.75;\" x=\"337.262496\" xlink:href=\"#m16906ed422\" y=\"197.743828\"/>\n     <use style=\"fill:#1f77b4;stroke:#ffffff;stroke-width:0.75;\" x=\"339.621543\" xlink:href=\"#m16906ed422\" y=\"197.77236\"/>\n     <use style=\"fill:#1f77b4;stroke:#ffffff;stroke-width:0.75;\" x=\"341.980591\" xlink:href=\"#m16906ed422\" y=\"197.692084\"/>\n     <use style=\"fill:#1f77b4;stroke:#ffffff;stroke-width:0.75;\" x=\"344.339638\" xlink:href=\"#m16906ed422\" y=\"197.153773\"/>\n     <use style=\"fill:#1f77b4;stroke:#ffffff;stroke-width:0.75;\" x=\"346.698686\" xlink:href=\"#m16906ed422\" y=\"197.581142\"/>\n     <use style=\"fill:#1f77b4;stroke:#ffffff;stroke-width:0.75;\" x=\"349.057733\" xlink:href=\"#m16906ed422\" y=\"197.587522\"/>\n     <use style=\"fill:#1f77b4;stroke:#ffffff;stroke-width:0.75;\" x=\"351.416781\" xlink:href=\"#m16906ed422\" y=\"197.479687\"/>\n     <use style=\"fill:#1f77b4;stroke:#ffffff;stroke-width:0.75;\" x=\"353.775828\" xlink:href=\"#m16906ed422\" y=\"197.434764\"/>\n     <use style=\"fill:#1f77b4;stroke:#ffffff;stroke-width:0.75;\" x=\"356.134876\" xlink:href=\"#m16906ed422\" y=\"197.028797\"/>\n     <use style=\"fill:#1f77b4;stroke:#ffffff;stroke-width:0.75;\" x=\"358.493923\" xlink:href=\"#m16906ed422\" y=\"197.29993\"/>\n     <use style=\"fill:#1f77b4;stroke:#ffffff;stroke-width:0.75;\" x=\"360.852971\" xlink:href=\"#m16906ed422\" y=\"197.708146\"/>\n     <use style=\"fill:#1f77b4;stroke:#ffffff;stroke-width:0.75;\" x=\"363.212018\" xlink:href=\"#m16906ed422\" y=\"197.872797\"/>\n     <use style=\"fill:#1f77b4;stroke:#ffffff;stroke-width:0.75;\" x=\"365.571066\" xlink:href=\"#m16906ed422\" y=\"197.688716\"/>\n    </g>\n   </g>\n   <g id=\"matplotlib.axis_1\">\n    <g id=\"xtick_1\">\n     <g id=\"line2d_1\">\n      <defs>\n       <path d=\"M 0 0 \nL 0 3.5 \n\" id=\"m9a79676d61\" style=\"stroke:#000000;stroke-width:0.8;\"/>\n      </defs>\n      <g>\n       <use style=\"stroke:#000000;stroke-width:0.8;\" x=\"58.894887\" xlink:href=\"#m9a79676d61\" y=\"224.64\"/>\n      </g>\n     </g>\n     <g id=\"text_1\">\n      <!-- 0 -->\n      <defs>\n       <path d=\"M 31.78125 66.40625 \nQ 24.171875 66.40625 20.328125 58.90625 \nQ 16.5 51.421875 16.5 36.375 \nQ 16.5 21.390625 20.328125 13.890625 \nQ 24.171875 6.390625 31.78125 6.390625 \nQ 39.453125 6.390625 43.28125 13.890625 \nQ 47.125 21.390625 47.125 36.375 \nQ 47.125 51.421875 43.28125 58.90625 \nQ 39.453125 66.40625 31.78125 66.40625 \nz\nM 31.78125 74.21875 \nQ 44.046875 74.21875 50.515625 64.515625 \nQ 56.984375 54.828125 56.984375 36.375 \nQ 56.984375 17.96875 50.515625 8.265625 \nQ 44.046875 -1.421875 31.78125 -1.421875 \nQ 19.53125 -1.421875 13.0625 8.265625 \nQ 6.59375 17.96875 6.59375 36.375 \nQ 6.59375 54.828125 13.0625 64.515625 \nQ 19.53125 74.21875 31.78125 74.21875 \nz\n\" id=\"DejaVuSans-48\"/>\n      </defs>\n      <g transform=\"translate(55.713637 239.238438)scale(0.1 -0.1)\">\n       <use xlink:href=\"#DejaVuSans-48\"/>\n      </g>\n     </g>\n    </g>\n    <g id=\"xtick_2\">\n     <g id=\"line2d_2\">\n      <g>\n       <use style=\"stroke:#000000;stroke-width:0.8;\" x=\"106.075837\" xlink:href=\"#m9a79676d61\" y=\"224.64\"/>\n      </g>\n     </g>\n     <g id=\"text_2\">\n      <!-- 20 -->\n      <defs>\n       <path d=\"M 19.1875 8.296875 \nL 53.609375 8.296875 \nL 53.609375 0 \nL 7.328125 0 \nL 7.328125 8.296875 \nQ 12.9375 14.109375 22.625 23.890625 \nQ 32.328125 33.6875 34.8125 36.53125 \nQ 39.546875 41.84375 41.421875 45.53125 \nQ 43.3125 49.21875 43.3125 52.78125 \nQ 43.3125 58.59375 39.234375 62.25 \nQ 35.15625 65.921875 28.609375 65.921875 \nQ 23.96875 65.921875 18.8125 64.3125 \nQ 13.671875 62.703125 7.8125 59.421875 \nL 7.8125 69.390625 \nQ 13.765625 71.78125 18.9375 73 \nQ 24.125 74.21875 28.421875 74.21875 \nQ 39.75 74.21875 46.484375 68.546875 \nQ 53.21875 62.890625 53.21875 53.421875 \nQ 53.21875 48.921875 51.53125 44.890625 \nQ 49.859375 40.875 45.40625 35.40625 \nQ 44.1875 33.984375 37.640625 27.21875 \nQ 31.109375 20.453125 19.1875 8.296875 \nz\n\" id=\"DejaVuSans-50\"/>\n      </defs>\n      <g transform=\"translate(99.713337 239.238438)scale(0.1 -0.1)\">\n       <use xlink:href=\"#DejaVuSans-50\"/>\n       <use x=\"63.623047\" xlink:href=\"#DejaVuSans-48\"/>\n      </g>\n     </g>\n    </g>\n    <g id=\"xtick_3\">\n     <g id=\"line2d_3\">\n      <g>\n       <use style=\"stroke:#000000;stroke-width:0.8;\" x=\"153.256788\" xlink:href=\"#m9a79676d61\" y=\"224.64\"/>\n      </g>\n     </g>\n     <g id=\"text_3\">\n      <!-- 40 -->\n      <defs>\n       <path d=\"M 37.796875 64.3125 \nL 12.890625 25.390625 \nL 37.796875 25.390625 \nz\nM 35.203125 72.90625 \nL 47.609375 72.90625 \nL 47.609375 25.390625 \nL 58.015625 25.390625 \nL 58.015625 17.1875 \nL 47.609375 17.1875 \nL 47.609375 0 \nL 37.796875 0 \nL 37.796875 17.1875 \nL 4.890625 17.1875 \nL 4.890625 26.703125 \nz\n\" id=\"DejaVuSans-52\"/>\n      </defs>\n      <g transform=\"translate(146.894288 239.238438)scale(0.1 -0.1)\">\n       <use xlink:href=\"#DejaVuSans-52\"/>\n       <use x=\"63.623047\" xlink:href=\"#DejaVuSans-48\"/>\n      </g>\n     </g>\n    </g>\n    <g id=\"xtick_4\">\n     <g id=\"line2d_4\">\n      <g>\n       <use style=\"stroke:#000000;stroke-width:0.8;\" x=\"200.437739\" xlink:href=\"#m9a79676d61\" y=\"224.64\"/>\n      </g>\n     </g>\n     <g id=\"text_4\">\n      <!-- 60 -->\n      <defs>\n       <path d=\"M 33.015625 40.375 \nQ 26.375 40.375 22.484375 35.828125 \nQ 18.609375 31.296875 18.609375 23.390625 \nQ 18.609375 15.53125 22.484375 10.953125 \nQ 26.375 6.390625 33.015625 6.390625 \nQ 39.65625 6.390625 43.53125 10.953125 \nQ 47.40625 15.53125 47.40625 23.390625 \nQ 47.40625 31.296875 43.53125 35.828125 \nQ 39.65625 40.375 33.015625 40.375 \nz\nM 52.59375 71.296875 \nL 52.59375 62.3125 \nQ 48.875 64.0625 45.09375 64.984375 \nQ 41.3125 65.921875 37.59375 65.921875 \nQ 27.828125 65.921875 22.671875 59.328125 \nQ 17.53125 52.734375 16.796875 39.40625 \nQ 19.671875 43.65625 24.015625 45.921875 \nQ 28.375 48.1875 33.59375 48.1875 \nQ 44.578125 48.1875 50.953125 41.515625 \nQ 57.328125 34.859375 57.328125 23.390625 \nQ 57.328125 12.15625 50.6875 5.359375 \nQ 44.046875 -1.421875 33.015625 -1.421875 \nQ 20.359375 -1.421875 13.671875 8.265625 \nQ 6.984375 17.96875 6.984375 36.375 \nQ 6.984375 53.65625 15.1875 63.9375 \nQ 23.390625 74.21875 37.203125 74.21875 \nQ 40.921875 74.21875 44.703125 73.484375 \nQ 48.484375 72.75 52.59375 71.296875 \nz\n\" id=\"DejaVuSans-54\"/>\n      </defs>\n      <g transform=\"translate(194.075239 239.238438)scale(0.1 -0.1)\">\n       <use xlink:href=\"#DejaVuSans-54\"/>\n       <use x=\"63.623047\" xlink:href=\"#DejaVuSans-48\"/>\n      </g>\n     </g>\n    </g>\n    <g id=\"xtick_5\">\n     <g id=\"line2d_5\">\n      <g>\n       <use style=\"stroke:#000000;stroke-width:0.8;\" x=\"247.618689\" xlink:href=\"#m9a79676d61\" y=\"224.64\"/>\n      </g>\n     </g>\n     <g id=\"text_5\">\n      <!-- 80 -->\n      <defs>\n       <path d=\"M 31.78125 34.625 \nQ 24.75 34.625 20.71875 30.859375 \nQ 16.703125 27.09375 16.703125 20.515625 \nQ 16.703125 13.921875 20.71875 10.15625 \nQ 24.75 6.390625 31.78125 6.390625 \nQ 38.8125 6.390625 42.859375 10.171875 \nQ 46.921875 13.96875 46.921875 20.515625 \nQ 46.921875 27.09375 42.890625 30.859375 \nQ 38.875 34.625 31.78125 34.625 \nz\nM 21.921875 38.8125 \nQ 15.578125 40.375 12.03125 44.71875 \nQ 8.5 49.078125 8.5 55.328125 \nQ 8.5 64.0625 14.71875 69.140625 \nQ 20.953125 74.21875 31.78125 74.21875 \nQ 42.671875 74.21875 48.875 69.140625 \nQ 55.078125 64.0625 55.078125 55.328125 \nQ 55.078125 49.078125 51.53125 44.71875 \nQ 48 40.375 41.703125 38.8125 \nQ 48.828125 37.15625 52.796875 32.3125 \nQ 56.78125 27.484375 56.78125 20.515625 \nQ 56.78125 9.90625 50.3125 4.234375 \nQ 43.84375 -1.421875 31.78125 -1.421875 \nQ 19.734375 -1.421875 13.25 4.234375 \nQ 6.78125 9.90625 6.78125 20.515625 \nQ 6.78125 27.484375 10.78125 32.3125 \nQ 14.796875 37.15625 21.921875 38.8125 \nz\nM 18.3125 54.390625 \nQ 18.3125 48.734375 21.84375 45.5625 \nQ 25.390625 42.390625 31.78125 42.390625 \nQ 38.140625 42.390625 41.71875 45.5625 \nQ 45.3125 48.734375 45.3125 54.390625 \nQ 45.3125 60.0625 41.71875 63.234375 \nQ 38.140625 66.40625 31.78125 66.40625 \nQ 25.390625 66.40625 21.84375 63.234375 \nQ 18.3125 60.0625 18.3125 54.390625 \nz\n\" id=\"DejaVuSans-56\"/>\n      </defs>\n      <g transform=\"translate(241.256189 239.238438)scale(0.1 -0.1)\">\n       <use xlink:href=\"#DejaVuSans-56\"/>\n       <use x=\"63.623047\" xlink:href=\"#DejaVuSans-48\"/>\n      </g>\n     </g>\n    </g>\n    <g id=\"xtick_6\">\n     <g id=\"line2d_6\">\n      <g>\n       <use style=\"stroke:#000000;stroke-width:0.8;\" x=\"294.79964\" xlink:href=\"#m9a79676d61\" y=\"224.64\"/>\n      </g>\n     </g>\n     <g id=\"text_6\">\n      <!-- 100 -->\n      <defs>\n       <path d=\"M 12.40625 8.296875 \nL 28.515625 8.296875 \nL 28.515625 63.921875 \nL 10.984375 60.40625 \nL 10.984375 69.390625 \nL 28.421875 72.90625 \nL 38.28125 72.90625 \nL 38.28125 8.296875 \nL 54.390625 8.296875 \nL 54.390625 0 \nL 12.40625 0 \nz\n\" id=\"DejaVuSans-49\"/>\n      </defs>\n      <g transform=\"translate(285.25589 239.238438)scale(0.1 -0.1)\">\n       <use xlink:href=\"#DejaVuSans-49\"/>\n       <use x=\"63.623047\" xlink:href=\"#DejaVuSans-48\"/>\n       <use x=\"127.246094\" xlink:href=\"#DejaVuSans-48\"/>\n      </g>\n     </g>\n    </g>\n    <g id=\"xtick_7\">\n     <g id=\"line2d_7\">\n      <g>\n       <use style=\"stroke:#000000;stroke-width:0.8;\" x=\"341.980591\" xlink:href=\"#m9a79676d61\" y=\"224.64\"/>\n      </g>\n     </g>\n     <g id=\"text_7\">\n      <!-- 120 -->\n      <g transform=\"translate(332.436841 239.238438)scale(0.1 -0.1)\">\n       <use xlink:href=\"#DejaVuSans-49\"/>\n       <use x=\"63.623047\" xlink:href=\"#DejaVuSans-50\"/>\n       <use x=\"127.246094\" xlink:href=\"#DejaVuSans-48\"/>\n      </g>\n     </g>\n    </g>\n   </g>\n   <g id=\"matplotlib.axis_2\">\n    <g id=\"ytick_1\">\n     <g id=\"line2d_8\">\n      <defs>\n       <path d=\"M 0 0 \nL -3.5 0 \n\" id=\"mb8eee7f5cb\" style=\"stroke:#000000;stroke-width:0.8;\"/>\n      </defs>\n      <g>\n       <use style=\"stroke:#000000;stroke-width:0.8;\" x=\"46.0125\" xlink:href=\"#mb8eee7f5cb\" y=\"211.991614\"/>\n      </g>\n     </g>\n     <g id=\"text_8\">\n      <!-- 20000 -->\n      <g transform=\"translate(7.2 215.790833)scale(0.1 -0.1)\">\n       <use xlink:href=\"#DejaVuSans-50\"/>\n       <use x=\"63.623047\" xlink:href=\"#DejaVuSans-48\"/>\n       <use x=\"127.246094\" xlink:href=\"#DejaVuSans-48\"/>\n       <use x=\"190.869141\" xlink:href=\"#DejaVuSans-48\"/>\n       <use x=\"254.492188\" xlink:href=\"#DejaVuSans-48\"/>\n      </g>\n     </g>\n    </g>\n    <g id=\"ytick_2\">\n     <g id=\"line2d_9\">\n      <g>\n       <use style=\"stroke:#000000;stroke-width:0.8;\" x=\"46.0125\" xlink:href=\"#mb8eee7f5cb\" y=\"182.467147\"/>\n      </g>\n     </g>\n     <g id=\"text_9\">\n      <!-- 22000 -->\n      <g transform=\"translate(7.2 186.266365)scale(0.1 -0.1)\">\n       <use xlink:href=\"#DejaVuSans-50\"/>\n       <use x=\"63.623047\" xlink:href=\"#DejaVuSans-50\"/>\n       <use x=\"127.246094\" xlink:href=\"#DejaVuSans-48\"/>\n       <use x=\"190.869141\" xlink:href=\"#DejaVuSans-48\"/>\n       <use x=\"254.492188\" xlink:href=\"#DejaVuSans-48\"/>\n      </g>\n     </g>\n    </g>\n    <g id=\"ytick_3\">\n     <g id=\"line2d_10\">\n      <g>\n       <use style=\"stroke:#000000;stroke-width:0.8;\" x=\"46.0125\" xlink:href=\"#mb8eee7f5cb\" y=\"152.942679\"/>\n      </g>\n     </g>\n     <g id=\"text_10\">\n      <!-- 24000 -->\n      <g transform=\"translate(7.2 156.741897)scale(0.1 -0.1)\">\n       <use xlink:href=\"#DejaVuSans-50\"/>\n       <use x=\"63.623047\" xlink:href=\"#DejaVuSans-52\"/>\n       <use x=\"127.246094\" xlink:href=\"#DejaVuSans-48\"/>\n       <use x=\"190.869141\" xlink:href=\"#DejaVuSans-48\"/>\n       <use x=\"254.492188\" xlink:href=\"#DejaVuSans-48\"/>\n      </g>\n     </g>\n    </g>\n    <g id=\"ytick_4\">\n     <g id=\"line2d_11\">\n      <g>\n       <use style=\"stroke:#000000;stroke-width:0.8;\" x=\"46.0125\" xlink:href=\"#mb8eee7f5cb\" y=\"123.418211\"/>\n      </g>\n     </g>\n     <g id=\"text_11\">\n      <!-- 26000 -->\n      <g transform=\"translate(7.2 127.21743)scale(0.1 -0.1)\">\n       <use xlink:href=\"#DejaVuSans-50\"/>\n       <use x=\"63.623047\" xlink:href=\"#DejaVuSans-54\"/>\n       <use x=\"127.246094\" xlink:href=\"#DejaVuSans-48\"/>\n       <use x=\"190.869141\" xlink:href=\"#DejaVuSans-48\"/>\n       <use x=\"254.492188\" xlink:href=\"#DejaVuSans-48\"/>\n      </g>\n     </g>\n    </g>\n    <g id=\"ytick_5\">\n     <g id=\"line2d_12\">\n      <g>\n       <use style=\"stroke:#000000;stroke-width:0.8;\" x=\"46.0125\" xlink:href=\"#mb8eee7f5cb\" y=\"93.893743\"/>\n      </g>\n     </g>\n     <g id=\"text_12\">\n      <!-- 28000 -->\n      <g transform=\"translate(7.2 97.692962)scale(0.1 -0.1)\">\n       <use xlink:href=\"#DejaVuSans-50\"/>\n       <use x=\"63.623047\" xlink:href=\"#DejaVuSans-56\"/>\n       <use x=\"127.246094\" xlink:href=\"#DejaVuSans-48\"/>\n       <use x=\"190.869141\" xlink:href=\"#DejaVuSans-48\"/>\n       <use x=\"254.492188\" xlink:href=\"#DejaVuSans-48\"/>\n      </g>\n     </g>\n    </g>\n    <g id=\"ytick_6\">\n     <g id=\"line2d_13\">\n      <g>\n       <use style=\"stroke:#000000;stroke-width:0.8;\" x=\"46.0125\" xlink:href=\"#mb8eee7f5cb\" y=\"64.369275\"/>\n      </g>\n     </g>\n     <g id=\"text_13\">\n      <!-- 30000 -->\n      <defs>\n       <path d=\"M 40.578125 39.3125 \nQ 47.65625 37.796875 51.625 33 \nQ 55.609375 28.21875 55.609375 21.1875 \nQ 55.609375 10.40625 48.1875 4.484375 \nQ 40.765625 -1.421875 27.09375 -1.421875 \nQ 22.515625 -1.421875 17.65625 -0.515625 \nQ 12.796875 0.390625 7.625 2.203125 \nL 7.625 11.71875 \nQ 11.71875 9.328125 16.59375 8.109375 \nQ 21.484375 6.890625 26.8125 6.890625 \nQ 36.078125 6.890625 40.9375 10.546875 \nQ 45.796875 14.203125 45.796875 21.1875 \nQ 45.796875 27.640625 41.28125 31.265625 \nQ 36.765625 34.90625 28.71875 34.90625 \nL 20.21875 34.90625 \nL 20.21875 43.015625 \nL 29.109375 43.015625 \nQ 36.375 43.015625 40.234375 45.921875 \nQ 44.09375 48.828125 44.09375 54.296875 \nQ 44.09375 59.90625 40.109375 62.90625 \nQ 36.140625 65.921875 28.71875 65.921875 \nQ 24.65625 65.921875 20.015625 65.03125 \nQ 15.375 64.15625 9.8125 62.3125 \nL 9.8125 71.09375 \nQ 15.4375 72.65625 20.34375 73.4375 \nQ 25.25 74.21875 29.59375 74.21875 \nQ 40.828125 74.21875 47.359375 69.109375 \nQ 53.90625 64.015625 53.90625 55.328125 \nQ 53.90625 49.265625 50.4375 45.09375 \nQ 46.96875 40.921875 40.578125 39.3125 \nz\n\" id=\"DejaVuSans-51\"/>\n      </defs>\n      <g transform=\"translate(7.2 68.168494)scale(0.1 -0.1)\">\n       <use xlink:href=\"#DejaVuSans-51\"/>\n       <use x=\"63.623047\" xlink:href=\"#DejaVuSans-48\"/>\n       <use x=\"127.246094\" xlink:href=\"#DejaVuSans-48\"/>\n       <use x=\"190.869141\" xlink:href=\"#DejaVuSans-48\"/>\n       <use x=\"254.492188\" xlink:href=\"#DejaVuSans-48\"/>\n      </g>\n     </g>\n    </g>\n    <g id=\"ytick_7\">\n     <g id=\"line2d_14\">\n      <g>\n       <use style=\"stroke:#000000;stroke-width:0.8;\" x=\"46.0125\" xlink:href=\"#mb8eee7f5cb\" y=\"34.844808\"/>\n      </g>\n     </g>\n     <g id=\"text_14\">\n      <!-- 32000 -->\n      <g transform=\"translate(7.2 38.644026)scale(0.1 -0.1)\">\n       <use xlink:href=\"#DejaVuSans-51\"/>\n       <use x=\"63.623047\" xlink:href=\"#DejaVuSans-50\"/>\n       <use x=\"127.246094\" xlink:href=\"#DejaVuSans-48\"/>\n       <use x=\"190.869141\" xlink:href=\"#DejaVuSans-48\"/>\n       <use x=\"254.492188\" xlink:href=\"#DejaVuSans-48\"/>\n      </g>\n     </g>\n    </g>\n   </g>\n   <g id=\"patch_3\">\n    <path d=\"M 46.0125 224.64 \nL 46.0125 7.2 \n\" style=\"fill:none;stroke:#000000;stroke-linecap:square;stroke-linejoin:miter;stroke-width:0.8;\"/>\n   </g>\n   <g id=\"patch_4\">\n    <path d=\"M 380.8125 224.64 \nL 380.8125 7.2 \n\" style=\"fill:none;stroke:#000000;stroke-linecap:square;stroke-linejoin:miter;stroke-width:0.8;\"/>\n   </g>\n   <g id=\"patch_5\">\n    <path d=\"M 46.0125 224.64 \nL 380.8125 224.64 \n\" style=\"fill:none;stroke:#000000;stroke-linecap:square;stroke-linejoin:miter;stroke-width:0.8;\"/>\n   </g>\n   <g id=\"patch_6\">\n    <path d=\"M 46.0125 7.2 \nL 380.8125 7.2 \n\" style=\"fill:none;stroke:#000000;stroke-linecap:square;stroke-linejoin:miter;stroke-width:0.8;\"/>\n   </g>\n  </g>\n </g>\n <defs>\n  <clipPath id=\"pb59060f303\">\n   <rect height=\"217.44\" width=\"334.8\" x=\"46.0125\" y=\"7.2\"/>\n  </clipPath>\n </defs>\n</svg>\n",
            "image/png": "[encoded data removed]"
          },
          "metadata": {
            "needs_background": "light"
          }
        }
      ],
      "source": [
        "import seaborn as sns\n",
        "import matplotlib.pyplot as plt\n",
        "MAEs\n",
        "ax = sns.scatterplot(x=ks[:130], y=MAEs[:130])"
      ]
    },
    {
      "cell_type": "code",
      "execution_count": 78,
      "metadata": {},
      "outputs": [],
      "source": [
        "# I found this function on the internet\n",
        "# this will get my minimu index for minimum value of the list\n",
        "def get_idx_min_value(l):\n",
        "    min_value = min(l)\n",
        "    if l.count(min_value) > 1:\n",
        "        return [i for i, x in enumerate(l) if x == min(l)]\n",
        "    else:\n",
        "        return l.index(min(l))"
      ]
    },
    {
      "cell_type": "code",
      "execution_count": 82,
      "metadata": {},
      "outputs": [],
      "source": [
        "# using this function I know K=66 has the lowest MAE\n",
        "best_k = get_idx_min_value(MAEs)"
      ]
    },
    {
      "cell_type": "code",
      "execution_count": null,
      "metadata": {},
      "outputs": [],
      "source": []
    },
    {
      "cell_type": "markdown",
      "metadata": {
        "colab_type": "text",
        "id": "E9reASgw-i8T"
      },
      "source": [
        "## 2.6. Report validation MAE and $R^2$\n",
        "\n",
        "What is your model's Mean Absolute Error and $R^2$ score on the validation set? (You are not graded on how high or low your validation scores are.)"
      ]
    },
    {
      "cell_type": "code",
      "metadata": {
        "colab_type": "code",
        "id": "q8GdnL4e7hyK",
        "colab": {}
      },
      "source": [
        "selector = SelectKBest(score_func=f_regression, k=best_k)\n",
        "X_train_selected = selector.fit_transform(X_train_scaled, y_train)\n",
        "X_val_selected = selector.transform(X_val_scaled)\n",
        "mask = selector.get_support(indices=False)\n",
        "\n",
        "model = LinearRegression()\n",
        "model.fit(X_train_selected, y_train)\n",
        "\n",
        "y_pred = model.predict(X_val_selected)\n",
        "mae = mean_absolute_error(y_val, y_pred)\n",
        "r2 = r2_score(y_val, y_pred)\n",
        "print(f'Test MAE: ${mae:,.0f} \\n')\n",
        "print(f'r^2: {r2:,.0f} \\n')\n",
        "print('selected features', X_train_enc.columns[mask])"
      ],
      "execution_count": 100,
      "outputs": [
        {
          "output_type": "stream",
          "name": "stdout",
          "text": "Test MAE: $20,024 \n\nr^2: 1 \n\nselected features Index(['1st_Flr_SF', 'Bedroom_AbvGr', 'Bsmt_Full_Bath', 'Full_Bath',\n       'Gr_Liv_Area', 'Half_Bath', 'Kitchen_AbvGr', 'Lot_Area', 'Overall_Cond',\n       'Overall_Qual', 'TotRms_AbvGrd', 'Year_Built', 'Year_Remod/Add',\n       'Bldg_Type_Duplex', 'Bldg_Type_Twnhs', 'Central_Air_Y', 'Central_Air_N',\n       'Condition_1_Norm', 'Condition_1_Feedr', 'Condition_1_Artery',\n       'Condition_2_PosA', 'Electrical_SBrkr', 'Electrical_FuseA',\n       'Electrical_FuseF', 'Exter_Cond_Fa', 'Exter_Qual_Ex', 'Exter_Qual_TA',\n       'Exter_Qual_Gd', 'Exter_Qual_Fa', 'Foundation_CBlock',\n       'Foundation_PConc', 'Foundation_Slab', 'Foundation_BrkTil',\n       'Functional_Typ', 'Heating_QC_Ex', 'Heating_QC_TA', 'Heating_QC_Gd',\n       'Heating_QC_Fa', 'House_Style_2Story', 'House_Style_1.5Fin',\n       'Kitchen_Qual_TA', 'Kitchen_Qual_Gd', 'Kitchen_Qual_Ex',\n       'Kitchen_Qual_Fa', 'Land_Contour_HLS', 'Lot_Config_CulDSac',\n       'Lot_Shape_IR1', 'Lot_Shape_Reg', 'Lot_Shape_IR2', 'MS_Zoning_RL',\n       'MS_Zoning_RM', 'MS_Zoning_C (all)', 'Mas_Vnr_Type_None',\n       'Mas_Vnr_Type_BrkFace', 'Mas_Vnr_Type_Stone', 'Paved_Drive_Y',\n       'Paved_Drive_N', 'Roof_Matl_WdShngl', 'Roof_Style_Hip',\n       'Roof_Style_Gable', 'Sale_Condition_Normal', 'Sale_Condition_Abnorml',\n       'Sale_Condition_Partial', 'Sale_Type_WD ', 'Sale_Type_COD',\n       'Sale_Type_New'],\n      dtype='object')\n"
        }
      ]
    },
    {
      "cell_type": "markdown",
      "metadata": {
        "colab_type": "text",
        "id": "DidByDsrOa-o"
      },
      "source": [
        "# Stretch Goals, Regression\n",
        "- Make at least 2 visualizations to explore relationships between features and target. You may use any visualization library\n",
        "- Try at least 3 feature combinations. You may select features manually, or automatically\n",
        "- Report validation MAE and $R^2$ for each feature combination you try\n",
        "- Report test MAE and $R^2$ for your final model\n",
        "- Print or plot the coefficients for the features in your model"
      ]
    },
    {
      "cell_type": "code",
      "metadata": {
        "colab_type": "code",
        "id": "xOfSQIf3Y3OV",
        "colab": {}
      },
      "source": [
        ""
      ],
      "execution_count": 0,
      "outputs": []
    },
    {
      "cell_type": "markdown",
      "metadata": {
        "colab_type": "text",
        "id": "PdkjBN1Dy_-A"
      },
      "source": [
        "# Data Dictionary \n",
        "\n",
        "Here's a description of the data fields:\n",
        "\n",
        "```\n",
        "1st_Flr_SF: First Floor square feet\n",
        "\n",
        "Bedroom_AbvGr: Bedrooms above grade (does NOT include basement bedrooms)\n",
        "\n",
        "Bldg_Type: Type of dwelling\n",
        "\t\t\n",
        "       1Fam\tSingle-family Detached\t\n",
        "       2FmCon\tTwo-family Conversion; originally built as one-family dwelling\n",
        "       Duplx\tDuplex\n",
        "       TwnhsE\tTownhouse End Unit\n",
        "       TwnhsI\tTownhouse Inside Unit\n",
        "       \n",
        "Bsmt_Half_Bath: Basement half bathrooms\n",
        "\n",
        "Bsmt_Full_Bath: Basement full bathrooms\n",
        "\n",
        "Central_Air: Central air conditioning\n",
        "\n",
        "       N\tNo\n",
        "       Y\tYes\n",
        "\t\t\n",
        "Condition_1: Proximity to various conditions\n",
        "\t\n",
        "       Artery\tAdjacent to arterial street\n",
        "       Feedr\tAdjacent to feeder street\t\n",
        "       Norm\tNormal\t\n",
        "       RRNn\tWithin 200' of North-South Railroad\n",
        "       RRAn\tAdjacent to North-South Railroad\n",
        "       PosN\tNear positive off-site feature--park, greenbelt, etc.\n",
        "       PosA\tAdjacent to postive off-site feature\n",
        "       RRNe\tWithin 200' of East-West Railroad\n",
        "       RRAe\tAdjacent to East-West Railroad\n",
        "\t\n",
        "Condition_2: Proximity to various conditions (if more than one is present)\n",
        "\t\t\n",
        "       Artery\tAdjacent to arterial street\n",
        "       Feedr\tAdjacent to feeder street\t\n",
        "       Norm\tNormal\t\n",
        "       RRNn\tWithin 200' of North-South Railroad\n",
        "       RRAn\tAdjacent to North-South Railroad\n",
        "       PosN\tNear positive off-site feature--park, greenbelt, etc.\n",
        "       PosA\tAdjacent to postive off-site feature\n",
        "       RRNe\tWithin 200' of East-West Railroad\n",
        "       RRAe\tAdjacent to East-West Railroad\n",
        "       \n",
        " Electrical: Electrical system\n",
        "\n",
        "       SBrkr\tStandard Circuit Breakers & Romex\n",
        "       FuseA\tFuse Box over 60 AMP and all Romex wiring (Average)\t\n",
        "       FuseF\t60 AMP Fuse Box and mostly Romex wiring (Fair)\n",
        "       FuseP\t60 AMP Fuse Box and mostly knob & tube wiring (poor)\n",
        "       Mix\tMixed\n",
        "       \n",
        " Exter_Cond: Evaluates the present condition of the material on the exterior\n",
        "\t\t\n",
        "       Ex\tExcellent\n",
        "       Gd\tGood\n",
        "       TA\tAverage/Typical\n",
        "       Fa\tFair\n",
        "       Po\tPoor\n",
        " \n",
        " Exter_Qual: Evaluates the quality of the material on the exterior \n",
        "\t\t\n",
        "       Ex\tExcellent\n",
        "       Gd\tGood\n",
        "       TA\tAverage/Typical\n",
        "       Fa\tFair\n",
        "       Po\tPoor\n",
        "\t\t\n",
        "Exterior_1st: Exterior covering on house\n",
        "\n",
        "       AsbShng\tAsbestos Shingles\n",
        "       AsphShn\tAsphalt Shingles\n",
        "       BrkComm\tBrick Common\n",
        "       BrkFace\tBrick Face\n",
        "       CBlock\tCinder Block\n",
        "       CemntBd\tCement Board\n",
        "       HdBoard\tHard Board\n",
        "       ImStucc\tImitation Stucco\n",
        "       MetalSd\tMetal Siding\n",
        "       Other\tOther\n",
        "       Plywood\tPlywood\n",
        "       PreCast\tPreCast\t\n",
        "       Stone\tStone\n",
        "       Stucco\tStucco\n",
        "       VinylSd\tVinyl Siding\n",
        "       Wd Sdng\tWood Siding\n",
        "       WdShing\tWood Shingles\n",
        "\t\n",
        "Exterior_2nd: Exterior covering on house (if more than one material)\n",
        "\n",
        "       AsbShng\tAsbestos Shingles\n",
        "       AsphShn\tAsphalt Shingles\n",
        "       BrkComm\tBrick Common\n",
        "       BrkFace\tBrick Face\n",
        "       CBlock\tCinder Block\n",
        "       CemntBd\tCement Board\n",
        "       HdBoard\tHard Board\n",
        "       ImStucc\tImitation Stucco\n",
        "       MetalSd\tMetal Siding\n",
        "       Other\tOther\n",
        "       Plywood\tPlywood\n",
        "       PreCast\tPreCast\n",
        "       Stone\tStone\n",
        "       Stucco\tStucco\n",
        "       VinylSd\tVinyl Siding\n",
        "       Wd Sdng\tWood Siding\n",
        "       WdShing\tWood Shingles\n",
        "       \n",
        "Foundation: Type of foundation\n",
        "\t\t\n",
        "       BrkTil\tBrick & Tile\n",
        "       CBlock\tCinder Block\n",
        "       PConc\tPoured Contrete\t\n",
        "       Slab\tSlab\n",
        "       Stone\tStone\n",
        "       Wood\tWood\n",
        "\t\t\n",
        "Full_Bath: Full bathrooms above grade\n",
        "\n",
        "Functional: Home functionality (Assume typical unless deductions are warranted)\n",
        "\n",
        "       Typ\tTypical Functionality\n",
        "       Min1\tMinor Deductions 1\n",
        "       Min2\tMinor Deductions 2\n",
        "       Mod\tModerate Deductions\n",
        "       Maj1\tMajor Deductions 1\n",
        "       Maj2\tMajor Deductions 2\n",
        "       Sev\tSeverely Damaged\n",
        "       Sal\tSalvage only\n",
        "\t\t\n",
        "Gr_Liv_Area: Above grade (ground) living area square feet\n",
        "        \n",
        "Half_Bath: Half baths above grade\n",
        "\n",
        "Heating: Type of heating\n",
        "\t\t\n",
        "       Floor\tFloor Furnace\n",
        "       GasA\tGas forced warm air furnace\n",
        "       GasW\tGas hot water or steam heat\n",
        "       Grav\tGravity furnace\t\n",
        "       OthW\tHot water or steam heat other than gas\n",
        "       Wall\tWall furnace\n",
        "\t\t\n",
        "Heating_QC: Heating quality and condition\n",
        "\n",
        "       Ex\tExcellent\n",
        "       Gd\tGood\n",
        "       TA\tAverage/Typical\n",
        "       Fa\tFair\n",
        "       Po\tPoor\n",
        "\n",
        "House_Style: Style of dwelling\n",
        "\t\n",
        "       1Story\tOne story\n",
        "       1.5Fin\tOne and one-half story: 2nd level finished\n",
        "       1.5Unf\tOne and one-half story: 2nd level unfinished\n",
        "       2Story\tTwo story\n",
        "       2.5Fin\tTwo and one-half story: 2nd level finished\n",
        "       2.5Unf\tTwo and one-half story: 2nd level unfinished\n",
        "       SFoyer\tSplit Foyer\n",
        "       SLvl\tSplit Level\n",
        "\n",
        "Kitchen_AbvGr: Kitchens above grade\n",
        "\n",
        "Kitchen_Qual: Kitchen quality\n",
        "\n",
        "       Ex\tExcellent\n",
        "       Gd\tGood\n",
        "       TA\tTypical/Average\n",
        "       Fa\tFair\n",
        "       Po\tPoor\n",
        "\n",
        "LandContour: Flatness of the property\n",
        "\n",
        "       Lvl\tNear Flat/Level\t\n",
        "       Bnk\tBanked - Quick and significant rise from street grade to building\n",
        "       HLS\tHillside - Significant slope from side to side\n",
        "       Low\tDepression\n",
        "\t\t\n",
        "Land_Slope: Slope of property\n",
        "\t\t\n",
        "       Gtl\tGentle slope\n",
        "       Mod\tModerate Slope\t\n",
        "       Sev\tSevere Slope\n",
        "\n",
        "Lot_Area: Lot size in square feet\n",
        "\n",
        "Lot_Config: Lot configuration\n",
        "\n",
        "       Inside\tInside lot\n",
        "       Corner\tCorner lot\n",
        "       CulDSac\tCul-de-sac\n",
        "       FR2\tFrontage on 2 sides of property\n",
        "       FR3\tFrontage on 3 sides of property\n",
        "\n",
        "Lot_Shape: General shape of property\n",
        "\n",
        "       Reg\tRegular\t\n",
        "       IR1\tSlightly irregular\n",
        "       IR2\tModerately Irregular\n",
        "       IR3\tIrregular\n",
        "\n",
        "MS_SubClass: Identifies the type of dwelling involved in the sale.\t\n",
        "\n",
        "        20\t1-STORY 1946 & NEWER ALL STYLES\n",
        "        30\t1-STORY 1945 & OLDER\n",
        "        40\t1-STORY W/FINISHED ATTIC ALL AGES\n",
        "        45\t1-1/2 STORY - UNFINISHED ALL AGES\n",
        "        50\t1-1/2 STORY FINISHED ALL AGES\n",
        "        60\t2-STORY 1946 & NEWER\n",
        "        70\t2-STORY 1945 & OLDER\n",
        "        75\t2-1/2 STORY ALL AGES\n",
        "        80\tSPLIT OR MULTI-LEVEL\n",
        "        85\tSPLIT FOYER\n",
        "        90\tDUPLEX - ALL STYLES AND AGES\n",
        "       120\t1-STORY PUD (Planned Unit Development) - 1946 & NEWER\n",
        "       150\t1-1/2 STORY PUD - ALL AGES\n",
        "       160\t2-STORY PUD - 1946 & NEWER\n",
        "       180\tPUD - MULTILEVEL - INCL SPLIT LEV/FOYER\n",
        "       190\t2 FAMILY CONVERSION - ALL STYLES AND AGES\n",
        "\n",
        "MS_Zoning: Identifies the general zoning classification of the sale.\n",
        "\t\t\n",
        "       A\tAgriculture\n",
        "       C\tCommercial\n",
        "       FV\tFloating Village Residential\n",
        "       I\tIndustrial\n",
        "       RH\tResidential High Density\n",
        "       RL\tResidential Low Density\n",
        "       RP\tResidential Low Density Park \n",
        "       RM\tResidential Medium Density\n",
        "\n",
        "Mas_Vnr_Type: Masonry veneer type\n",
        "\n",
        "       BrkCmn\tBrick Common\n",
        "       BrkFace\tBrick Face\n",
        "       CBlock\tCinder Block\n",
        "       None\tNone\n",
        "       Stone\tStone\n",
        "\n",
        "Mo_Sold: Month Sold (MM)\n",
        "\n",
        "Neighborhood: Physical locations within Ames city limits\n",
        "\n",
        "       Blmngtn\tBloomington Heights\n",
        "       Blueste\tBluestem\n",
        "       BrDale\tBriardale\n",
        "       BrkSide\tBrookside\n",
        "       ClearCr\tClear Creek\n",
        "       CollgCr\tCollege Creek\n",
        "       Crawfor\tCrawford\n",
        "       Edwards\tEdwards\n",
        "       Gilbert\tGilbert\n",
        "       IDOTRR\tIowa DOT and Rail Road\n",
        "       MeadowV\tMeadow Village\n",
        "       Mitchel\tMitchell\n",
        "       Names\tNorth Ames\n",
        "       NoRidge\tNorthridge\n",
        "       NPkVill\tNorthpark Villa\n",
        "       NridgHt\tNorthridge Heights\n",
        "       NWAmes\tNorthwest Ames\n",
        "       OldTown\tOld Town\n",
        "       SWISU\tSouth & West of Iowa State University\n",
        "       Sawyer\tSawyer\n",
        "       SawyerW\tSawyer West\n",
        "       Somerst\tSomerset\n",
        "       StoneBr\tStone Brook\n",
        "       Timber\tTimberland\n",
        "       Veenker\tVeenker\n",
        "\t\t\t\n",
        "Overall_Cond: Rates the overall condition of the house\n",
        "\n",
        "       10\tVery Excellent\n",
        "       9\tExcellent\n",
        "       8\tVery Good\n",
        "       7\tGood\n",
        "       6\tAbove Average\t\n",
        "       5\tAverage\n",
        "       4\tBelow Average\t\n",
        "       3\tFair\n",
        "       2\tPoor\n",
        "       1\tVery Poor\n",
        "\n",
        "Overall_Qual: Rates the overall material and finish of the house\n",
        "\n",
        "       10\tVery Excellent\n",
        "       9\tExcellent\n",
        "       8\tVery Good\n",
        "       7\tGood\n",
        "       6\tAbove Average\n",
        "       5\tAverage\n",
        "       4\tBelow Average\n",
        "       3\tFair\n",
        "       2\tPoor\n",
        "       1\tVery Poor\n",
        "\n",
        "Paved_Drive: Paved driveway\n",
        "\n",
        "       Y\tPaved \n",
        "       P\tPartial Pavement\n",
        "       N\tDirt/Gravel\n",
        "\n",
        "Roof_Matl: Roof material\n",
        "\n",
        "       ClyTile\tClay or Tile\n",
        "       CompShg\tStandard (Composite) Shingle\n",
        "       Membran\tMembrane\n",
        "       Metal\tMetal\n",
        "       Roll\tRoll\n",
        "       Tar&Grv\tGravel & Tar\n",
        "       WdShake\tWood Shakes\n",
        "       WdShngl\tWood Shingles\n",
        "\n",
        "Roof_Style: Type of roof\n",
        "\n",
        "       Flat\tFlat\n",
        "       Gable\tGable\n",
        "       Gambrel\tGabrel (Barn)\n",
        "       Hip\tHip\n",
        "       Mansard\tMansard\n",
        "       Shed\tShed\n",
        "\n",
        "SalePrice: the sales price for each house\n",
        "\n",
        "Sale_Condition: Condition of sale\n",
        "\n",
        "       Normal\tNormal Sale\n",
        "       Abnorml\tAbnormal Sale -  trade, foreclosure, short sale\n",
        "       AdjLand\tAdjoining Land Purchase\n",
        "       Alloca\tAllocation - two linked properties with separate deeds, typically condo with a garage unit\t\n",
        "       Family\tSale between family members\n",
        "       Partial\tHome was not completed when last assessed (associated with New Homes)\n",
        "\n",
        "Sale_Type: Type of sale\n",
        "\t\t\n",
        "       WD \tWarranty Deed - Conventional\n",
        "       CWD\tWarranty Deed - Cash\n",
        "       VWD\tWarranty Deed - VA Loan\n",
        "       New\tHome just constructed and sold\n",
        "       COD\tCourt Officer Deed/Estate\n",
        "       Con\tContract 15% Down payment regular terms\n",
        "       ConLw\tContract Low Down payment and low interest\n",
        "       ConLI\tContract Low Interest\n",
        "       ConLD\tContract Low Down\n",
        "       Oth\tOther\n",
        "\t\n",
        "Street: Type of road access to property\n",
        "\n",
        "       Grvl\tGravel\t\n",
        "       Pave\tPaved\n",
        "       \t\n",
        "TotRms_AbvGrd: Total rooms above grade (does not include bathrooms)\n",
        "\n",
        "Utilities: Type of utilities available\n",
        "\t\t\n",
        "       AllPub\tAll public Utilities (E,G,W,& S)\t\n",
        "       NoSewr\tElectricity, Gas, and Water (Septic Tank)\n",
        "       NoSeWa\tElectricity and Gas Only\n",
        "       ELO\tElectricity only\t\n",
        "\t\n",
        "Year_Built: Original construction date\n",
        "\n",
        "Year_Remod/Add: Remodel date (same as construction date if no remodeling or additions)\n",
        "\t\t\t\t\t\t\n",
        "Yr_Sold: Year Sold (YYYY)\t\n",
        "\n",
        "```"
      ]
    }
  ]
}